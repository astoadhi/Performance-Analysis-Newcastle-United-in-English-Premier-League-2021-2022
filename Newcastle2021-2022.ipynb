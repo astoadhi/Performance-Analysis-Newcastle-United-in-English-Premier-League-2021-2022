{
 "cells": [
  {
   "cell_type": "markdown",
   "metadata": {},
   "source": [
    "# Fun Analysis : New Ownership? New Era for Newcastle United? Performance Analysis Newcastle United in English Premier League 2021/2022"
   ]
  },
  {
   "cell_type": "markdown",
   "metadata": {},
   "source": [
    "The English Premier League(EPL) is the top level of the English football league system. Contested by 20 clubs, it operates on a system of promotion and relegation with the English Football League. Seasons typically run from August to May with each team playing 38 matches (home and away matches). The total number of games played in the league per season is 380 and the maximun number of points each team can earn is 114.  **Manchester City F.C 🏆**  is the current champion at this season (5th title).\n",
    "\n",
    "\n",
    "In this notebook, we will look the performance for Newcastle United at this season 21/22. \n",
    "\n",
    "To do so, we are talking about\n",
    "\n",
    "1. Newcastle United and EPL Table 21/22\n",
    "2. All Newcastle United EPL Match 21/22\n",
    "\n",
    "Let's go"
   ]
  },
  {
   "cell_type": "code",
   "execution_count": 55,
   "metadata": {},
   "outputs": [],
   "source": [
    "import pandas as pd\n",
    "import numpy as np\n",
    "import matplotlib.pyplot as plt\n",
    "import seaborn as sns\n",
    "import statsmodels as sm\n",
    "import seaborn as sns \n",
    "import matplotlib.pyplot as plt\n",
    "import plotly.express as px"
   ]
  },
  {
   "cell_type": "markdown",
   "metadata": {},
   "source": [
    "## Newcastle United and EPL 21/22 Table"
   ]
  },
  {
   "cell_type": "markdown",
   "metadata": {},
   "source": [
    "In this section, we are using EPL table to identify\n",
    "- the teams that are qualified for Champion League and Europa League\n",
    "- relegated team and promoted team\n",
    "- Compare the number of pts of Newcastle United with others team in the table   \n",
    "- worst attack ranking\n",
    "- worst defend ranking"
   ]
  },
  {
   "cell_type": "code",
   "execution_count": 56,
   "metadata": {},
   "outputs": [
    {
     "data": {
      "text/html": [
       "<div>\n",
       "<style scoped>\n",
       "    .dataframe tbody tr th:only-of-type {\n",
       "        vertical-align: middle;\n",
       "    }\n",
       "\n",
       "    .dataframe tbody tr th {\n",
       "        vertical-align: top;\n",
       "    }\n",
       "\n",
       "    .dataframe thead th {\n",
       "        text-align: right;\n",
       "    }\n",
       "</style>\n",
       "<table border=\"1\" class=\"dataframe\">\n",
       "  <thead>\n",
       "    <tr style=\"text-align: right;\">\n",
       "      <th></th>\n",
       "      <th>Date</th>\n",
       "      <th>HomeTeam</th>\n",
       "      <th>AwayTeam</th>\n",
       "      <th>FTHG</th>\n",
       "      <th>FTAG</th>\n",
       "      <th>FTR</th>\n",
       "      <th>HTHG</th>\n",
       "      <th>HTAG</th>\n",
       "      <th>HTR</th>\n",
       "      <th>Referee</th>\n",
       "      <th>...</th>\n",
       "      <th>HST</th>\n",
       "      <th>AST</th>\n",
       "      <th>HF</th>\n",
       "      <th>AF</th>\n",
       "      <th>HC</th>\n",
       "      <th>AC</th>\n",
       "      <th>HY</th>\n",
       "      <th>AY</th>\n",
       "      <th>HR</th>\n",
       "      <th>AR</th>\n",
       "    </tr>\n",
       "  </thead>\n",
       "  <tbody>\n",
       "    <tr>\n",
       "      <th>0</th>\n",
       "      <td>13/08/2021</td>\n",
       "      <td>Brentford</td>\n",
       "      <td>Arsenal</td>\n",
       "      <td>2</td>\n",
       "      <td>0</td>\n",
       "      <td>H</td>\n",
       "      <td>1</td>\n",
       "      <td>0</td>\n",
       "      <td>H</td>\n",
       "      <td>M Oliver</td>\n",
       "      <td>...</td>\n",
       "      <td>3</td>\n",
       "      <td>4</td>\n",
       "      <td>12</td>\n",
       "      <td>8</td>\n",
       "      <td>2</td>\n",
       "      <td>5</td>\n",
       "      <td>0</td>\n",
       "      <td>0</td>\n",
       "      <td>0</td>\n",
       "      <td>0</td>\n",
       "    </tr>\n",
       "    <tr>\n",
       "      <th>1</th>\n",
       "      <td>14/08/2021</td>\n",
       "      <td>Man United</td>\n",
       "      <td>Leeds</td>\n",
       "      <td>5</td>\n",
       "      <td>1</td>\n",
       "      <td>H</td>\n",
       "      <td>1</td>\n",
       "      <td>0</td>\n",
       "      <td>H</td>\n",
       "      <td>P Tierney</td>\n",
       "      <td>...</td>\n",
       "      <td>8</td>\n",
       "      <td>3</td>\n",
       "      <td>11</td>\n",
       "      <td>9</td>\n",
       "      <td>5</td>\n",
       "      <td>4</td>\n",
       "      <td>1</td>\n",
       "      <td>2</td>\n",
       "      <td>0</td>\n",
       "      <td>0</td>\n",
       "    </tr>\n",
       "    <tr>\n",
       "      <th>2</th>\n",
       "      <td>14/08/2021</td>\n",
       "      <td>Burnley</td>\n",
       "      <td>Brighton</td>\n",
       "      <td>1</td>\n",
       "      <td>2</td>\n",
       "      <td>A</td>\n",
       "      <td>1</td>\n",
       "      <td>0</td>\n",
       "      <td>H</td>\n",
       "      <td>D Coote</td>\n",
       "      <td>...</td>\n",
       "      <td>3</td>\n",
       "      <td>8</td>\n",
       "      <td>10</td>\n",
       "      <td>7</td>\n",
       "      <td>7</td>\n",
       "      <td>6</td>\n",
       "      <td>2</td>\n",
       "      <td>1</td>\n",
       "      <td>0</td>\n",
       "      <td>0</td>\n",
       "    </tr>\n",
       "    <tr>\n",
       "      <th>3</th>\n",
       "      <td>14/08/2021</td>\n",
       "      <td>Chelsea</td>\n",
       "      <td>Crystal Palace</td>\n",
       "      <td>3</td>\n",
       "      <td>0</td>\n",
       "      <td>H</td>\n",
       "      <td>2</td>\n",
       "      <td>0</td>\n",
       "      <td>H</td>\n",
       "      <td>J Moss</td>\n",
       "      <td>...</td>\n",
       "      <td>6</td>\n",
       "      <td>1</td>\n",
       "      <td>15</td>\n",
       "      <td>11</td>\n",
       "      <td>5</td>\n",
       "      <td>2</td>\n",
       "      <td>0</td>\n",
       "      <td>0</td>\n",
       "      <td>0</td>\n",
       "      <td>0</td>\n",
       "    </tr>\n",
       "    <tr>\n",
       "      <th>4</th>\n",
       "      <td>14/08/2021</td>\n",
       "      <td>Everton</td>\n",
       "      <td>Southampton</td>\n",
       "      <td>3</td>\n",
       "      <td>1</td>\n",
       "      <td>H</td>\n",
       "      <td>0</td>\n",
       "      <td>1</td>\n",
       "      <td>A</td>\n",
       "      <td>A Madley</td>\n",
       "      <td>...</td>\n",
       "      <td>6</td>\n",
       "      <td>3</td>\n",
       "      <td>13</td>\n",
       "      <td>15</td>\n",
       "      <td>6</td>\n",
       "      <td>8</td>\n",
       "      <td>2</td>\n",
       "      <td>0</td>\n",
       "      <td>0</td>\n",
       "      <td>0</td>\n",
       "    </tr>\n",
       "  </tbody>\n",
       "</table>\n",
       "<p>5 rows × 22 columns</p>\n",
       "</div>"
      ],
      "text/plain": [
       "         Date    HomeTeam        AwayTeam  FTHG  FTAG FTR  HTHG  HTAG HTR  \\\n",
       "0  13/08/2021   Brentford         Arsenal     2     0   H     1     0   H   \n",
       "1  14/08/2021  Man United           Leeds     5     1   H     1     0   H   \n",
       "2  14/08/2021     Burnley        Brighton     1     2   A     1     0   H   \n",
       "3  14/08/2021     Chelsea  Crystal Palace     3     0   H     2     0   H   \n",
       "4  14/08/2021     Everton     Southampton     3     1   H     0     1   A   \n",
       "\n",
       "     Referee  ...  HST  AST  HF  AF  HC  AC  HY  AY  HR  AR  \n",
       "0   M Oliver  ...    3    4  12   8   2   5   0   0   0   0  \n",
       "1  P Tierney  ...    8    3  11   9   5   4   1   2   0   0  \n",
       "2    D Coote  ...    3    8  10   7   7   6   2   1   0   0  \n",
       "3     J Moss  ...    6    1  15  11   5   2   0   0   0   0  \n",
       "4   A Madley  ...    6    3  13  15   6   8   2   0   0   0  \n",
       "\n",
       "[5 rows x 22 columns]"
      ]
     },
     "execution_count": 56,
     "metadata": {},
     "output_type": "execute_result"
    }
   ],
   "source": [
    "df=pd.read_csv('soccer21-22.csv')\n",
    "df.head()\n"
   ]
  },
  {
   "cell_type": "markdown",
   "metadata": {},
   "source": [
    "First we check if there any data duplicated or missing"
   ]
  },
  {
   "cell_type": "code",
   "execution_count": 57,
   "metadata": {},
   "outputs": [
    {
     "data": {
      "text/html": [
       "<div>\n",
       "<style scoped>\n",
       "    .dataframe tbody tr th:only-of-type {\n",
       "        vertical-align: middle;\n",
       "    }\n",
       "\n",
       "    .dataframe tbody tr th {\n",
       "        vertical-align: top;\n",
       "    }\n",
       "\n",
       "    .dataframe thead th {\n",
       "        text-align: right;\n",
       "    }\n",
       "</style>\n",
       "<table border=\"1\" class=\"dataframe\">\n",
       "  <thead>\n",
       "    <tr style=\"text-align: right;\">\n",
       "      <th></th>\n",
       "      <th>Date</th>\n",
       "      <th>HomeTeam</th>\n",
       "      <th>AwayTeam</th>\n",
       "      <th>FTHG</th>\n",
       "      <th>FTAG</th>\n",
       "      <th>FTR</th>\n",
       "      <th>HTHG</th>\n",
       "      <th>HTAG</th>\n",
       "      <th>HTR</th>\n",
       "      <th>Referee</th>\n",
       "      <th>...</th>\n",
       "      <th>HST</th>\n",
       "      <th>AST</th>\n",
       "      <th>HF</th>\n",
       "      <th>AF</th>\n",
       "      <th>HC</th>\n",
       "      <th>AC</th>\n",
       "      <th>HY</th>\n",
       "      <th>AY</th>\n",
       "      <th>HR</th>\n",
       "      <th>AR</th>\n",
       "    </tr>\n",
       "  </thead>\n",
       "  <tbody>\n",
       "  </tbody>\n",
       "</table>\n",
       "<p>0 rows × 22 columns</p>\n",
       "</div>"
      ],
      "text/plain": [
       "Empty DataFrame\n",
       "Columns: [Date, HomeTeam, AwayTeam, FTHG, FTAG, FTR, HTHG, HTAG, HTR, Referee, HS, AS, HST, AST, HF, AF, HC, AC, HY, AY, HR, AR]\n",
       "Index: []\n",
       "\n",
       "[0 rows x 22 columns]"
      ]
     },
     "execution_count": 57,
     "metadata": {},
     "output_type": "execute_result"
    }
   ],
   "source": [
    "df[df.duplicated()]"
   ]
  },
  {
   "cell_type": "code",
   "execution_count": 58,
   "metadata": {},
   "outputs": [
    {
     "data": {
      "text/plain": [
       "Date        0\n",
       "HomeTeam    0\n",
       "AwayTeam    0\n",
       "FTHG        0\n",
       "FTAG        0\n",
       "FTR         0\n",
       "HTHG        0\n",
       "HTAG        0\n",
       "HTR         0\n",
       "Referee     0\n",
       "HS          0\n",
       "AS          0\n",
       "HST         0\n",
       "AST         0\n",
       "HF          0\n",
       "AF          0\n",
       "HC          0\n",
       "AC          0\n",
       "HY          0\n",
       "AY          0\n",
       "HR          0\n",
       "AR          0\n",
       "dtype: int64"
      ]
     },
     "execution_count": 58,
     "metadata": {},
     "output_type": "execute_result"
    }
   ],
   "source": [
    "df.isnull().sum()"
   ]
  },
  {
   "cell_type": "markdown",
   "metadata": {},
   "source": [
    "There is no missing or duplicated data so we can processing the data into proper EPL Table"
   ]
  },
  {
   "cell_type": "code",
   "execution_count": 59,
   "metadata": {},
   "outputs": [
    {
     "data": {
      "text/plain": [
       "array(['Brentford', 'Man United', 'Burnley', 'Chelsea', 'Everton',\n",
       "       'Leicester', 'Watford', 'Norwich', 'Newcastle', 'Tottenham',\n",
       "       'Liverpool', 'Aston Villa', 'Crystal Palace', 'Leeds', 'Man City',\n",
       "       'Brighton', 'Southampton', 'Wolves', 'Arsenal', 'West Ham'],\n",
       "      dtype=object)"
      ]
     },
     "execution_count": 59,
     "metadata": {},
     "output_type": "execute_result"
    }
   ],
   "source": [
    "df.HomeTeam.unique()"
   ]
  },
  {
   "cell_type": "code",
   "execution_count": 60,
   "metadata": {},
   "outputs": [
    {
     "data": {
      "text/plain": [
       "array(['Arsenal', 'Leeds', 'Brighton', 'Crystal Palace', 'Southampton',\n",
       "       'Wolves', 'Aston Villa', 'Liverpool', 'West Ham', 'Man City',\n",
       "       'Burnley', 'Newcastle', 'Brentford', 'Everton', 'Norwich',\n",
       "       'Watford', 'Man United', 'Tottenham', 'Chelsea', 'Leicester'],\n",
       "      dtype=object)"
      ]
     },
     "execution_count": 60,
     "metadata": {},
     "output_type": "execute_result"
    }
   ],
   "source": [
    "df.AwayTeam.unique()"
   ]
  },
  {
   "cell_type": "code",
   "execution_count": 61,
   "metadata": {},
   "outputs": [
    {
     "data": {
      "text/plain": [
       "(380, 22)"
      ]
     },
     "execution_count": 61,
     "metadata": {},
     "output_type": "execute_result"
    }
   ],
   "source": [
    "df.shape"
   ]
  },
  {
   "cell_type": "code",
   "execution_count": 62,
   "metadata": {},
   "outputs": [
    {
     "data": {
      "text/plain": [
       "True"
      ]
     },
     "execution_count": 62,
     "metadata": {},
     "output_type": "execute_result"
    }
   ],
   "source": [
    "no_of_teams = 20\n",
    "home_and_away = 2\n",
    "no_of_matches_per_week = no_of_teams/2\n",
    "number_of_matches = home_and_away*(no_of_teams-1)*no_of_matches_per_week\n",
    "number_of_matches == df.shape[0]"
   ]
  },
  {
   "cell_type": "code",
   "execution_count": 63,
   "metadata": {},
   "outputs": [
    {
     "data": {
      "text/plain": [
       "Brentford         19\n",
       "Man United        19\n",
       "Arsenal           19\n",
       "Wolves            19\n",
       "Southampton       19\n",
       "Brighton          19\n",
       "Man City          19\n",
       "Leeds             19\n",
       "Crystal Palace    19\n",
       "Aston Villa       19\n",
       "Liverpool         19\n",
       "Tottenham         19\n",
       "Newcastle         19\n",
       "Norwich           19\n",
       "Watford           19\n",
       "Leicester         19\n",
       "Everton           19\n",
       "Chelsea           19\n",
       "Burnley           19\n",
       "West Ham          19\n",
       "Name: HomeTeam, dtype: int64"
      ]
     },
     "execution_count": 63,
     "metadata": {},
     "output_type": "execute_result"
    }
   ],
   "source": [
    "df.HomeTeam.value_counts()"
   ]
  },
  {
   "cell_type": "code",
   "execution_count": 64,
   "metadata": {},
   "outputs": [
    {
     "data": {
      "text/plain": [
       "Arsenal           19\n",
       "Leeds             19\n",
       "Chelsea           19\n",
       "Tottenham         19\n",
       "Man United        19\n",
       "Watford           19\n",
       "Norwich           19\n",
       "Everton           19\n",
       "Brentford         19\n",
       "Newcastle         19\n",
       "Burnley           19\n",
       "Man City          19\n",
       "West Ham          19\n",
       "Liverpool         19\n",
       "Aston Villa       19\n",
       "Wolves            19\n",
       "Southampton       19\n",
       "Crystal Palace    19\n",
       "Brighton          19\n",
       "Leicester         19\n",
       "Name: AwayTeam, dtype: int64"
      ]
     },
     "execution_count": 64,
     "metadata": {},
     "output_type": "execute_result"
    }
   ],
   "source": [
    "df.AwayTeam.value_counts()"
   ]
  },
  {
   "cell_type": "code",
   "execution_count": 65,
   "metadata": {},
   "outputs": [
    {
     "data": {
      "text/html": [
       "<div>\n",
       "<style scoped>\n",
       "    .dataframe tbody tr th:only-of-type {\n",
       "        vertical-align: middle;\n",
       "    }\n",
       "\n",
       "    .dataframe tbody tr th {\n",
       "        vertical-align: top;\n",
       "    }\n",
       "\n",
       "    .dataframe thead th {\n",
       "        text-align: right;\n",
       "    }\n",
       "</style>\n",
       "<table border=\"1\" class=\"dataframe\">\n",
       "  <thead>\n",
       "    <tr style=\"text-align: right;\">\n",
       "      <th></th>\n",
       "      <th>Team</th>\n",
       "    </tr>\n",
       "  </thead>\n",
       "  <tbody>\n",
       "    <tr>\n",
       "      <th>0</th>\n",
       "      <td>Brentford</td>\n",
       "    </tr>\n",
       "    <tr>\n",
       "      <th>1</th>\n",
       "      <td>Man United</td>\n",
       "    </tr>\n",
       "    <tr>\n",
       "      <th>2</th>\n",
       "      <td>Burnley</td>\n",
       "    </tr>\n",
       "    <tr>\n",
       "      <th>3</th>\n",
       "      <td>Chelsea</td>\n",
       "    </tr>\n",
       "    <tr>\n",
       "      <th>4</th>\n",
       "      <td>Everton</td>\n",
       "    </tr>\n",
       "    <tr>\n",
       "      <th>5</th>\n",
       "      <td>Leicester</td>\n",
       "    </tr>\n",
       "    <tr>\n",
       "      <th>6</th>\n",
       "      <td>Watford</td>\n",
       "    </tr>\n",
       "    <tr>\n",
       "      <th>7</th>\n",
       "      <td>Norwich</td>\n",
       "    </tr>\n",
       "    <tr>\n",
       "      <th>8</th>\n",
       "      <td>Newcastle</td>\n",
       "    </tr>\n",
       "    <tr>\n",
       "      <th>9</th>\n",
       "      <td>Tottenham</td>\n",
       "    </tr>\n",
       "    <tr>\n",
       "      <th>10</th>\n",
       "      <td>Liverpool</td>\n",
       "    </tr>\n",
       "    <tr>\n",
       "      <th>11</th>\n",
       "      <td>Aston Villa</td>\n",
       "    </tr>\n",
       "    <tr>\n",
       "      <th>12</th>\n",
       "      <td>Crystal Palace</td>\n",
       "    </tr>\n",
       "    <tr>\n",
       "      <th>13</th>\n",
       "      <td>Leeds</td>\n",
       "    </tr>\n",
       "    <tr>\n",
       "      <th>14</th>\n",
       "      <td>Man City</td>\n",
       "    </tr>\n",
       "    <tr>\n",
       "      <th>15</th>\n",
       "      <td>Brighton</td>\n",
       "    </tr>\n",
       "    <tr>\n",
       "      <th>16</th>\n",
       "      <td>Southampton</td>\n",
       "    </tr>\n",
       "    <tr>\n",
       "      <th>17</th>\n",
       "      <td>Wolves</td>\n",
       "    </tr>\n",
       "    <tr>\n",
       "      <th>18</th>\n",
       "      <td>Arsenal</td>\n",
       "    </tr>\n",
       "    <tr>\n",
       "      <th>19</th>\n",
       "      <td>West Ham</td>\n",
       "    </tr>\n",
       "  </tbody>\n",
       "</table>\n",
       "</div>"
      ],
      "text/plain": [
       "              Team\n",
       "0        Brentford\n",
       "1       Man United\n",
       "2          Burnley\n",
       "3          Chelsea\n",
       "4          Everton\n",
       "5        Leicester\n",
       "6          Watford\n",
       "7          Norwich\n",
       "8        Newcastle\n",
       "9        Tottenham\n",
       "10       Liverpool\n",
       "11     Aston Villa\n",
       "12  Crystal Palace\n",
       "13           Leeds\n",
       "14        Man City\n",
       "15        Brighton\n",
       "16     Southampton\n",
       "17          Wolves\n",
       "18         Arsenal\n",
       "19        West Ham"
      ]
     },
     "execution_count": 65,
     "metadata": {},
     "output_type": "execute_result"
    }
   ],
   "source": [
    "table = pd.DataFrame(list(df.HomeTeam.unique()),columns = ['Team'])\n",
    "table"
   ]
  },
  {
   "cell_type": "markdown",
   "metadata": {},
   "source": [
    "Let's define these columns\n",
    "\n",
    "- Played: Played (number of matches played by a team)\n",
    "- Win: number of matches won\n",
    "- Draw: number of times a team has finish a match with an even score or tie\n",
    "- Lost: number of matches lost\n",
    "- GF: Goals For (number of goals by a team)\n",
    "- GA: Goals Against (number of goals conceded by a team)\n",
    "- GD: Goal Difference (difference between GF and GA)\n",
    "- Points : Point for a team (W : 3 Points , D : 1 Point , L : 0 Point)"
   ]
  },
  {
   "cell_type": "code",
   "execution_count": 66,
   "metadata": {},
   "outputs": [
    {
     "data": {
      "text/html": [
       "<div>\n",
       "<style scoped>\n",
       "    .dataframe tbody tr th:only-of-type {\n",
       "        vertical-align: middle;\n",
       "    }\n",
       "\n",
       "    .dataframe tbody tr th {\n",
       "        vertical-align: top;\n",
       "    }\n",
       "\n",
       "    .dataframe thead th {\n",
       "        text-align: right;\n",
       "    }\n",
       "</style>\n",
       "<table border=\"1\" class=\"dataframe\">\n",
       "  <thead>\n",
       "    <tr style=\"text-align: right;\">\n",
       "      <th></th>\n",
       "      <th>Played</th>\n",
       "      <th>Win</th>\n",
       "      <th>Draw</th>\n",
       "      <th>Loss</th>\n",
       "      <th>GF</th>\n",
       "      <th>GA</th>\n",
       "      <th>GD</th>\n",
       "      <th>Points</th>\n",
       "    </tr>\n",
       "    <tr>\n",
       "      <th>Team</th>\n",
       "      <th></th>\n",
       "      <th></th>\n",
       "      <th></th>\n",
       "      <th></th>\n",
       "      <th></th>\n",
       "      <th></th>\n",
       "      <th></th>\n",
       "      <th></th>\n",
       "    </tr>\n",
       "  </thead>\n",
       "  <tbody>\n",
       "    <tr>\n",
       "      <th>Brentford</th>\n",
       "      <td>0</td>\n",
       "      <td>0</td>\n",
       "      <td>0</td>\n",
       "      <td>0</td>\n",
       "      <td>0</td>\n",
       "      <td>0</td>\n",
       "      <td>0</td>\n",
       "      <td>0</td>\n",
       "    </tr>\n",
       "    <tr>\n",
       "      <th>Man United</th>\n",
       "      <td>0</td>\n",
       "      <td>0</td>\n",
       "      <td>0</td>\n",
       "      <td>0</td>\n",
       "      <td>0</td>\n",
       "      <td>0</td>\n",
       "      <td>0</td>\n",
       "      <td>0</td>\n",
       "    </tr>\n",
       "    <tr>\n",
       "      <th>Burnley</th>\n",
       "      <td>0</td>\n",
       "      <td>0</td>\n",
       "      <td>0</td>\n",
       "      <td>0</td>\n",
       "      <td>0</td>\n",
       "      <td>0</td>\n",
       "      <td>0</td>\n",
       "      <td>0</td>\n",
       "    </tr>\n",
       "    <tr>\n",
       "      <th>Chelsea</th>\n",
       "      <td>0</td>\n",
       "      <td>0</td>\n",
       "      <td>0</td>\n",
       "      <td>0</td>\n",
       "      <td>0</td>\n",
       "      <td>0</td>\n",
       "      <td>0</td>\n",
       "      <td>0</td>\n",
       "    </tr>\n",
       "    <tr>\n",
       "      <th>Everton</th>\n",
       "      <td>0</td>\n",
       "      <td>0</td>\n",
       "      <td>0</td>\n",
       "      <td>0</td>\n",
       "      <td>0</td>\n",
       "      <td>0</td>\n",
       "      <td>0</td>\n",
       "      <td>0</td>\n",
       "    </tr>\n",
       "    <tr>\n",
       "      <th>Leicester</th>\n",
       "      <td>0</td>\n",
       "      <td>0</td>\n",
       "      <td>0</td>\n",
       "      <td>0</td>\n",
       "      <td>0</td>\n",
       "      <td>0</td>\n",
       "      <td>0</td>\n",
       "      <td>0</td>\n",
       "    </tr>\n",
       "    <tr>\n",
       "      <th>Watford</th>\n",
       "      <td>0</td>\n",
       "      <td>0</td>\n",
       "      <td>0</td>\n",
       "      <td>0</td>\n",
       "      <td>0</td>\n",
       "      <td>0</td>\n",
       "      <td>0</td>\n",
       "      <td>0</td>\n",
       "    </tr>\n",
       "    <tr>\n",
       "      <th>Norwich</th>\n",
       "      <td>0</td>\n",
       "      <td>0</td>\n",
       "      <td>0</td>\n",
       "      <td>0</td>\n",
       "      <td>0</td>\n",
       "      <td>0</td>\n",
       "      <td>0</td>\n",
       "      <td>0</td>\n",
       "    </tr>\n",
       "    <tr>\n",
       "      <th>Newcastle</th>\n",
       "      <td>0</td>\n",
       "      <td>0</td>\n",
       "      <td>0</td>\n",
       "      <td>0</td>\n",
       "      <td>0</td>\n",
       "      <td>0</td>\n",
       "      <td>0</td>\n",
       "      <td>0</td>\n",
       "    </tr>\n",
       "    <tr>\n",
       "      <th>Tottenham</th>\n",
       "      <td>0</td>\n",
       "      <td>0</td>\n",
       "      <td>0</td>\n",
       "      <td>0</td>\n",
       "      <td>0</td>\n",
       "      <td>0</td>\n",
       "      <td>0</td>\n",
       "      <td>0</td>\n",
       "    </tr>\n",
       "    <tr>\n",
       "      <th>Liverpool</th>\n",
       "      <td>0</td>\n",
       "      <td>0</td>\n",
       "      <td>0</td>\n",
       "      <td>0</td>\n",
       "      <td>0</td>\n",
       "      <td>0</td>\n",
       "      <td>0</td>\n",
       "      <td>0</td>\n",
       "    </tr>\n",
       "    <tr>\n",
       "      <th>Aston Villa</th>\n",
       "      <td>0</td>\n",
       "      <td>0</td>\n",
       "      <td>0</td>\n",
       "      <td>0</td>\n",
       "      <td>0</td>\n",
       "      <td>0</td>\n",
       "      <td>0</td>\n",
       "      <td>0</td>\n",
       "    </tr>\n",
       "    <tr>\n",
       "      <th>Crystal Palace</th>\n",
       "      <td>0</td>\n",
       "      <td>0</td>\n",
       "      <td>0</td>\n",
       "      <td>0</td>\n",
       "      <td>0</td>\n",
       "      <td>0</td>\n",
       "      <td>0</td>\n",
       "      <td>0</td>\n",
       "    </tr>\n",
       "    <tr>\n",
       "      <th>Leeds</th>\n",
       "      <td>0</td>\n",
       "      <td>0</td>\n",
       "      <td>0</td>\n",
       "      <td>0</td>\n",
       "      <td>0</td>\n",
       "      <td>0</td>\n",
       "      <td>0</td>\n",
       "      <td>0</td>\n",
       "    </tr>\n",
       "    <tr>\n",
       "      <th>Man City</th>\n",
       "      <td>0</td>\n",
       "      <td>0</td>\n",
       "      <td>0</td>\n",
       "      <td>0</td>\n",
       "      <td>0</td>\n",
       "      <td>0</td>\n",
       "      <td>0</td>\n",
       "      <td>0</td>\n",
       "    </tr>\n",
       "    <tr>\n",
       "      <th>Brighton</th>\n",
       "      <td>0</td>\n",
       "      <td>0</td>\n",
       "      <td>0</td>\n",
       "      <td>0</td>\n",
       "      <td>0</td>\n",
       "      <td>0</td>\n",
       "      <td>0</td>\n",
       "      <td>0</td>\n",
       "    </tr>\n",
       "    <tr>\n",
       "      <th>Southampton</th>\n",
       "      <td>0</td>\n",
       "      <td>0</td>\n",
       "      <td>0</td>\n",
       "      <td>0</td>\n",
       "      <td>0</td>\n",
       "      <td>0</td>\n",
       "      <td>0</td>\n",
       "      <td>0</td>\n",
       "    </tr>\n",
       "    <tr>\n",
       "      <th>Wolves</th>\n",
       "      <td>0</td>\n",
       "      <td>0</td>\n",
       "      <td>0</td>\n",
       "      <td>0</td>\n",
       "      <td>0</td>\n",
       "      <td>0</td>\n",
       "      <td>0</td>\n",
       "      <td>0</td>\n",
       "    </tr>\n",
       "    <tr>\n",
       "      <th>Arsenal</th>\n",
       "      <td>0</td>\n",
       "      <td>0</td>\n",
       "      <td>0</td>\n",
       "      <td>0</td>\n",
       "      <td>0</td>\n",
       "      <td>0</td>\n",
       "      <td>0</td>\n",
       "      <td>0</td>\n",
       "    </tr>\n",
       "    <tr>\n",
       "      <th>West Ham</th>\n",
       "      <td>0</td>\n",
       "      <td>0</td>\n",
       "      <td>0</td>\n",
       "      <td>0</td>\n",
       "      <td>0</td>\n",
       "      <td>0</td>\n",
       "      <td>0</td>\n",
       "      <td>0</td>\n",
       "    </tr>\n",
       "  </tbody>\n",
       "</table>\n",
       "</div>"
      ],
      "text/plain": [
       "                Played  Win  Draw  Loss  GF  GA  GD  Points\n",
       "Team                                                       \n",
       "Brentford            0    0     0     0   0   0   0       0\n",
       "Man United           0    0     0     0   0   0   0       0\n",
       "Burnley              0    0     0     0   0   0   0       0\n",
       "Chelsea              0    0     0     0   0   0   0       0\n",
       "Everton              0    0     0     0   0   0   0       0\n",
       "Leicester            0    0     0     0   0   0   0       0\n",
       "Watford              0    0     0     0   0   0   0       0\n",
       "Norwich              0    0     0     0   0   0   0       0\n",
       "Newcastle            0    0     0     0   0   0   0       0\n",
       "Tottenham            0    0     0     0   0   0   0       0\n",
       "Liverpool            0    0     0     0   0   0   0       0\n",
       "Aston Villa          0    0     0     0   0   0   0       0\n",
       "Crystal Palace       0    0     0     0   0   0   0       0\n",
       "Leeds                0    0     0     0   0   0   0       0\n",
       "Man City             0    0     0     0   0   0   0       0\n",
       "Brighton             0    0     0     0   0   0   0       0\n",
       "Southampton          0    0     0     0   0   0   0       0\n",
       "Wolves               0    0     0     0   0   0   0       0\n",
       "Arsenal              0    0     0     0   0   0   0       0\n",
       "West Ham             0    0     0     0   0   0   0       0"
      ]
     },
     "execution_count": 66,
     "metadata": {},
     "output_type": "execute_result"
    }
   ],
   "source": [
    "table[['Played','Win','Draw','Loss','GF','GA','GD','Points']] = 0\n",
    "table = table.set_index('Team')\n",
    "table"
   ]
  },
  {
   "cell_type": "markdown",
   "metadata": {},
   "source": [
    "Then we extract the all fixture into the table"
   ]
  },
  {
   "cell_type": "code",
   "execution_count": 67,
   "metadata": {},
   "outputs": [],
   "source": [
    "for i in df.index:\n",
    "    home = df.HomeTeam.loc[i]\n",
    "    away = df.AwayTeam.loc[i]\n",
    "    table.loc[home,'Played'] += 1\n",
    "    table.loc[away,'Played'] += 1\n",
    "    table.loc[home,'GF'] += df.FTHG.loc[i]\n",
    "    table.loc[away,'GF'] += df.FTAG.loc[i]\n",
    "    table.loc[home,'GA'] += df.FTAG.loc[i]\n",
    "    table.loc[away,'GA'] += df.FTHG.loc[i]\n",
    "    if df.loc[i,'FTR'] == \"H\":\n",
    "        table.loc[home,'Win'] += 1\n",
    "        table.loc[away,'Loss'] += 1\n",
    "    elif df.loc[i,'FTR'] == \"A\":\n",
    "        table.loc[away,'Win'] += 1\n",
    "        table.loc[home,'Loss'] += 1\n",
    "    else:\n",
    "        table.loc[away,'Draw'] += 1\n",
    "        table.loc[home,'Draw'] += 1\n",
    "table['Points'] = 3*table['Win'] + table['Draw']\n",
    "table['GD'] = table['GF'] - table['GA']"
   ]
  },
  {
   "cell_type": "markdown",
   "metadata": {},
   "source": []
  },
  {
   "cell_type": "code",
   "execution_count": 68,
   "metadata": {},
   "outputs": [
    {
     "data": {
      "text/html": [
       "<style type=\"text/css\">\n",
       "#T_23c39_row0_col0, #T_23c39_row1_col0, #T_23c39_row2_col0, #T_23c39_row3_col0 {\n",
       "  color: white;\n",
       "  background-color: darkgreen;\n",
       "  text-shadow: 3px 3px 3px black;\n",
       "}\n",
       "#T_23c39_row4_col0 {\n",
       "  color: white;\n",
       "  background-color: darkblue;\n",
       "  text-shadow: 3px 3px 3px black;\n",
       "}\n",
       "#T_23c39_row5_col0, #T_23c39_row6_col0 {\n",
       "  color: white;\n",
       "  background-color: darkorange;\n",
       "  text-shadow: 3px 3px 3px black;\n",
       "}\n",
       "#T_23c39_row17_col0, #T_23c39_row18_col0, #T_23c39_row19_col0 {\n",
       "  color: white;\n",
       "  background-color: darkred;\n",
       "  text-shadow: 3px 3px 3px black;\n",
       "}\n",
       "</style>\n",
       "<table id=\"T_23c39_\">\n",
       "  <caption>⚽ EPL Table Season 2021-2022 ⚽</caption>\n",
       "  <thead>\n",
       "    <tr>\n",
       "      <th class=\"blank level0\" >&nbsp;</th>\n",
       "      <th class=\"col_heading level0 col0\" >Team</th>\n",
       "      <th class=\"col_heading level0 col1\" >Played</th>\n",
       "      <th class=\"col_heading level0 col2\" >Win</th>\n",
       "      <th class=\"col_heading level0 col3\" >Draw</th>\n",
       "      <th class=\"col_heading level0 col4\" >Loss</th>\n",
       "      <th class=\"col_heading level0 col5\" >GF</th>\n",
       "      <th class=\"col_heading level0 col6\" >GA</th>\n",
       "      <th class=\"col_heading level0 col7\" >GD</th>\n",
       "      <th class=\"col_heading level0 col8\" >Points</th>\n",
       "    </tr>\n",
       "  </thead>\n",
       "  <tbody>\n",
       "    <tr>\n",
       "      <th id=\"T_23c39_level0_row0\" class=\"row_heading level0 row0\" >0</th>\n",
       "      <td id=\"T_23c39_row0_col0\" class=\"data row0 col0\" >Man City</td>\n",
       "      <td id=\"T_23c39_row0_col1\" class=\"data row0 col1\" >38</td>\n",
       "      <td id=\"T_23c39_row0_col2\" class=\"data row0 col2\" >29</td>\n",
       "      <td id=\"T_23c39_row0_col3\" class=\"data row0 col3\" >6</td>\n",
       "      <td id=\"T_23c39_row0_col4\" class=\"data row0 col4\" >3</td>\n",
       "      <td id=\"T_23c39_row0_col5\" class=\"data row0 col5\" >99</td>\n",
       "      <td id=\"T_23c39_row0_col6\" class=\"data row0 col6\" >26</td>\n",
       "      <td id=\"T_23c39_row0_col7\" class=\"data row0 col7\" >73</td>\n",
       "      <td id=\"T_23c39_row0_col8\" class=\"data row0 col8\" >93</td>\n",
       "    </tr>\n",
       "    <tr>\n",
       "      <th id=\"T_23c39_level0_row1\" class=\"row_heading level0 row1\" >1</th>\n",
       "      <td id=\"T_23c39_row1_col0\" class=\"data row1 col0\" >Liverpool</td>\n",
       "      <td id=\"T_23c39_row1_col1\" class=\"data row1 col1\" >38</td>\n",
       "      <td id=\"T_23c39_row1_col2\" class=\"data row1 col2\" >28</td>\n",
       "      <td id=\"T_23c39_row1_col3\" class=\"data row1 col3\" >8</td>\n",
       "      <td id=\"T_23c39_row1_col4\" class=\"data row1 col4\" >2</td>\n",
       "      <td id=\"T_23c39_row1_col5\" class=\"data row1 col5\" >94</td>\n",
       "      <td id=\"T_23c39_row1_col6\" class=\"data row1 col6\" >26</td>\n",
       "      <td id=\"T_23c39_row1_col7\" class=\"data row1 col7\" >68</td>\n",
       "      <td id=\"T_23c39_row1_col8\" class=\"data row1 col8\" >92</td>\n",
       "    </tr>\n",
       "    <tr>\n",
       "      <th id=\"T_23c39_level0_row2\" class=\"row_heading level0 row2\" >2</th>\n",
       "      <td id=\"T_23c39_row2_col0\" class=\"data row2 col0\" >Chelsea</td>\n",
       "      <td id=\"T_23c39_row2_col1\" class=\"data row2 col1\" >38</td>\n",
       "      <td id=\"T_23c39_row2_col2\" class=\"data row2 col2\" >21</td>\n",
       "      <td id=\"T_23c39_row2_col3\" class=\"data row2 col3\" >11</td>\n",
       "      <td id=\"T_23c39_row2_col4\" class=\"data row2 col4\" >6</td>\n",
       "      <td id=\"T_23c39_row2_col5\" class=\"data row2 col5\" >76</td>\n",
       "      <td id=\"T_23c39_row2_col6\" class=\"data row2 col6\" >33</td>\n",
       "      <td id=\"T_23c39_row2_col7\" class=\"data row2 col7\" >43</td>\n",
       "      <td id=\"T_23c39_row2_col8\" class=\"data row2 col8\" >74</td>\n",
       "    </tr>\n",
       "    <tr>\n",
       "      <th id=\"T_23c39_level0_row3\" class=\"row_heading level0 row3\" >3</th>\n",
       "      <td id=\"T_23c39_row3_col0\" class=\"data row3 col0\" >Tottenham</td>\n",
       "      <td id=\"T_23c39_row3_col1\" class=\"data row3 col1\" >38</td>\n",
       "      <td id=\"T_23c39_row3_col2\" class=\"data row3 col2\" >22</td>\n",
       "      <td id=\"T_23c39_row3_col3\" class=\"data row3 col3\" >5</td>\n",
       "      <td id=\"T_23c39_row3_col4\" class=\"data row3 col4\" >11</td>\n",
       "      <td id=\"T_23c39_row3_col5\" class=\"data row3 col5\" >69</td>\n",
       "      <td id=\"T_23c39_row3_col6\" class=\"data row3 col6\" >40</td>\n",
       "      <td id=\"T_23c39_row3_col7\" class=\"data row3 col7\" >29</td>\n",
       "      <td id=\"T_23c39_row3_col8\" class=\"data row3 col8\" >71</td>\n",
       "    </tr>\n",
       "    <tr>\n",
       "      <th id=\"T_23c39_level0_row4\" class=\"row_heading level0 row4\" >4</th>\n",
       "      <td id=\"T_23c39_row4_col0\" class=\"data row4 col0\" >Arsenal</td>\n",
       "      <td id=\"T_23c39_row4_col1\" class=\"data row4 col1\" >38</td>\n",
       "      <td id=\"T_23c39_row4_col2\" class=\"data row4 col2\" >22</td>\n",
       "      <td id=\"T_23c39_row4_col3\" class=\"data row4 col3\" >3</td>\n",
       "      <td id=\"T_23c39_row4_col4\" class=\"data row4 col4\" >13</td>\n",
       "      <td id=\"T_23c39_row4_col5\" class=\"data row4 col5\" >61</td>\n",
       "      <td id=\"T_23c39_row4_col6\" class=\"data row4 col6\" >48</td>\n",
       "      <td id=\"T_23c39_row4_col7\" class=\"data row4 col7\" >13</td>\n",
       "      <td id=\"T_23c39_row4_col8\" class=\"data row4 col8\" >69</td>\n",
       "    </tr>\n",
       "    <tr>\n",
       "      <th id=\"T_23c39_level0_row5\" class=\"row_heading level0 row5\" >5</th>\n",
       "      <td id=\"T_23c39_row5_col0\" class=\"data row5 col0\" >Man United</td>\n",
       "      <td id=\"T_23c39_row5_col1\" class=\"data row5 col1\" >38</td>\n",
       "      <td id=\"T_23c39_row5_col2\" class=\"data row5 col2\" >16</td>\n",
       "      <td id=\"T_23c39_row5_col3\" class=\"data row5 col3\" >10</td>\n",
       "      <td id=\"T_23c39_row5_col4\" class=\"data row5 col4\" >12</td>\n",
       "      <td id=\"T_23c39_row5_col5\" class=\"data row5 col5\" >57</td>\n",
       "      <td id=\"T_23c39_row5_col6\" class=\"data row5 col6\" >57</td>\n",
       "      <td id=\"T_23c39_row5_col7\" class=\"data row5 col7\" >0</td>\n",
       "      <td id=\"T_23c39_row5_col8\" class=\"data row5 col8\" >58</td>\n",
       "    </tr>\n",
       "    <tr>\n",
       "      <th id=\"T_23c39_level0_row6\" class=\"row_heading level0 row6\" >6</th>\n",
       "      <td id=\"T_23c39_row6_col0\" class=\"data row6 col0\" >West Ham</td>\n",
       "      <td id=\"T_23c39_row6_col1\" class=\"data row6 col1\" >38</td>\n",
       "      <td id=\"T_23c39_row6_col2\" class=\"data row6 col2\" >16</td>\n",
       "      <td id=\"T_23c39_row6_col3\" class=\"data row6 col3\" >8</td>\n",
       "      <td id=\"T_23c39_row6_col4\" class=\"data row6 col4\" >14</td>\n",
       "      <td id=\"T_23c39_row6_col5\" class=\"data row6 col5\" >60</td>\n",
       "      <td id=\"T_23c39_row6_col6\" class=\"data row6 col6\" >51</td>\n",
       "      <td id=\"T_23c39_row6_col7\" class=\"data row6 col7\" >9</td>\n",
       "      <td id=\"T_23c39_row6_col8\" class=\"data row6 col8\" >56</td>\n",
       "    </tr>\n",
       "    <tr>\n",
       "      <th id=\"T_23c39_level0_row7\" class=\"row_heading level0 row7\" >7</th>\n",
       "      <td id=\"T_23c39_row7_col0\" class=\"data row7 col0\" >Leicester</td>\n",
       "      <td id=\"T_23c39_row7_col1\" class=\"data row7 col1\" >38</td>\n",
       "      <td id=\"T_23c39_row7_col2\" class=\"data row7 col2\" >14</td>\n",
       "      <td id=\"T_23c39_row7_col3\" class=\"data row7 col3\" >10</td>\n",
       "      <td id=\"T_23c39_row7_col4\" class=\"data row7 col4\" >14</td>\n",
       "      <td id=\"T_23c39_row7_col5\" class=\"data row7 col5\" >62</td>\n",
       "      <td id=\"T_23c39_row7_col6\" class=\"data row7 col6\" >59</td>\n",
       "      <td id=\"T_23c39_row7_col7\" class=\"data row7 col7\" >3</td>\n",
       "      <td id=\"T_23c39_row7_col8\" class=\"data row7 col8\" >52</td>\n",
       "    </tr>\n",
       "    <tr>\n",
       "      <th id=\"T_23c39_level0_row8\" class=\"row_heading level0 row8\" >8</th>\n",
       "      <td id=\"T_23c39_row8_col0\" class=\"data row8 col0\" >Brighton</td>\n",
       "      <td id=\"T_23c39_row8_col1\" class=\"data row8 col1\" >38</td>\n",
       "      <td id=\"T_23c39_row8_col2\" class=\"data row8 col2\" >12</td>\n",
       "      <td id=\"T_23c39_row8_col3\" class=\"data row8 col3\" >15</td>\n",
       "      <td id=\"T_23c39_row8_col4\" class=\"data row8 col4\" >11</td>\n",
       "      <td id=\"T_23c39_row8_col5\" class=\"data row8 col5\" >42</td>\n",
       "      <td id=\"T_23c39_row8_col6\" class=\"data row8 col6\" >44</td>\n",
       "      <td id=\"T_23c39_row8_col7\" class=\"data row8 col7\" >-2</td>\n",
       "      <td id=\"T_23c39_row8_col8\" class=\"data row8 col8\" >51</td>\n",
       "    </tr>\n",
       "    <tr>\n",
       "      <th id=\"T_23c39_level0_row9\" class=\"row_heading level0 row9\" >9</th>\n",
       "      <td id=\"T_23c39_row9_col0\" class=\"data row9 col0\" >Wolves</td>\n",
       "      <td id=\"T_23c39_row9_col1\" class=\"data row9 col1\" >38</td>\n",
       "      <td id=\"T_23c39_row9_col2\" class=\"data row9 col2\" >15</td>\n",
       "      <td id=\"T_23c39_row9_col3\" class=\"data row9 col3\" >6</td>\n",
       "      <td id=\"T_23c39_row9_col4\" class=\"data row9 col4\" >17</td>\n",
       "      <td id=\"T_23c39_row9_col5\" class=\"data row9 col5\" >38</td>\n",
       "      <td id=\"T_23c39_row9_col6\" class=\"data row9 col6\" >43</td>\n",
       "      <td id=\"T_23c39_row9_col7\" class=\"data row9 col7\" >-5</td>\n",
       "      <td id=\"T_23c39_row9_col8\" class=\"data row9 col8\" >51</td>\n",
       "    </tr>\n",
       "    <tr>\n",
       "      <th id=\"T_23c39_level0_row10\" class=\"row_heading level0 row10\" >10</th>\n",
       "      <td id=\"T_23c39_row10_col0\" class=\"data row10 col0\" >Newcastle</td>\n",
       "      <td id=\"T_23c39_row10_col1\" class=\"data row10 col1\" >38</td>\n",
       "      <td id=\"T_23c39_row10_col2\" class=\"data row10 col2\" >13</td>\n",
       "      <td id=\"T_23c39_row10_col3\" class=\"data row10 col3\" >10</td>\n",
       "      <td id=\"T_23c39_row10_col4\" class=\"data row10 col4\" >15</td>\n",
       "      <td id=\"T_23c39_row10_col5\" class=\"data row10 col5\" >44</td>\n",
       "      <td id=\"T_23c39_row10_col6\" class=\"data row10 col6\" >62</td>\n",
       "      <td id=\"T_23c39_row10_col7\" class=\"data row10 col7\" >-18</td>\n",
       "      <td id=\"T_23c39_row10_col8\" class=\"data row10 col8\" >49</td>\n",
       "    </tr>\n",
       "    <tr>\n",
       "      <th id=\"T_23c39_level0_row11\" class=\"row_heading level0 row11\" >11</th>\n",
       "      <td id=\"T_23c39_row11_col0\" class=\"data row11 col0\" >Crystal Palace</td>\n",
       "      <td id=\"T_23c39_row11_col1\" class=\"data row11 col1\" >38</td>\n",
       "      <td id=\"T_23c39_row11_col2\" class=\"data row11 col2\" >11</td>\n",
       "      <td id=\"T_23c39_row11_col3\" class=\"data row11 col3\" >15</td>\n",
       "      <td id=\"T_23c39_row11_col4\" class=\"data row11 col4\" >12</td>\n",
       "      <td id=\"T_23c39_row11_col5\" class=\"data row11 col5\" >50</td>\n",
       "      <td id=\"T_23c39_row11_col6\" class=\"data row11 col6\" >46</td>\n",
       "      <td id=\"T_23c39_row11_col7\" class=\"data row11 col7\" >4</td>\n",
       "      <td id=\"T_23c39_row11_col8\" class=\"data row11 col8\" >48</td>\n",
       "    </tr>\n",
       "    <tr>\n",
       "      <th id=\"T_23c39_level0_row12\" class=\"row_heading level0 row12\" >12</th>\n",
       "      <td id=\"T_23c39_row12_col0\" class=\"data row12 col0\" >Brentford</td>\n",
       "      <td id=\"T_23c39_row12_col1\" class=\"data row12 col1\" >38</td>\n",
       "      <td id=\"T_23c39_row12_col2\" class=\"data row12 col2\" >13</td>\n",
       "      <td id=\"T_23c39_row12_col3\" class=\"data row12 col3\" >7</td>\n",
       "      <td id=\"T_23c39_row12_col4\" class=\"data row12 col4\" >18</td>\n",
       "      <td id=\"T_23c39_row12_col5\" class=\"data row12 col5\" >48</td>\n",
       "      <td id=\"T_23c39_row12_col6\" class=\"data row12 col6\" >56</td>\n",
       "      <td id=\"T_23c39_row12_col7\" class=\"data row12 col7\" >-8</td>\n",
       "      <td id=\"T_23c39_row12_col8\" class=\"data row12 col8\" >46</td>\n",
       "    </tr>\n",
       "    <tr>\n",
       "      <th id=\"T_23c39_level0_row13\" class=\"row_heading level0 row13\" >13</th>\n",
       "      <td id=\"T_23c39_row13_col0\" class=\"data row13 col0\" >Aston Villa</td>\n",
       "      <td id=\"T_23c39_row13_col1\" class=\"data row13 col1\" >38</td>\n",
       "      <td id=\"T_23c39_row13_col2\" class=\"data row13 col2\" >13</td>\n",
       "      <td id=\"T_23c39_row13_col3\" class=\"data row13 col3\" >6</td>\n",
       "      <td id=\"T_23c39_row13_col4\" class=\"data row13 col4\" >19</td>\n",
       "      <td id=\"T_23c39_row13_col5\" class=\"data row13 col5\" >52</td>\n",
       "      <td id=\"T_23c39_row13_col6\" class=\"data row13 col6\" >54</td>\n",
       "      <td id=\"T_23c39_row13_col7\" class=\"data row13 col7\" >-2</td>\n",
       "      <td id=\"T_23c39_row13_col8\" class=\"data row13 col8\" >45</td>\n",
       "    </tr>\n",
       "    <tr>\n",
       "      <th id=\"T_23c39_level0_row14\" class=\"row_heading level0 row14\" >14</th>\n",
       "      <td id=\"T_23c39_row14_col0\" class=\"data row14 col0\" >Southampton</td>\n",
       "      <td id=\"T_23c39_row14_col1\" class=\"data row14 col1\" >38</td>\n",
       "      <td id=\"T_23c39_row14_col2\" class=\"data row14 col2\" >9</td>\n",
       "      <td id=\"T_23c39_row14_col3\" class=\"data row14 col3\" >13</td>\n",
       "      <td id=\"T_23c39_row14_col4\" class=\"data row14 col4\" >16</td>\n",
       "      <td id=\"T_23c39_row14_col5\" class=\"data row14 col5\" >43</td>\n",
       "      <td id=\"T_23c39_row14_col6\" class=\"data row14 col6\" >67</td>\n",
       "      <td id=\"T_23c39_row14_col7\" class=\"data row14 col7\" >-24</td>\n",
       "      <td id=\"T_23c39_row14_col8\" class=\"data row14 col8\" >40</td>\n",
       "    </tr>\n",
       "    <tr>\n",
       "      <th id=\"T_23c39_level0_row15\" class=\"row_heading level0 row15\" >15</th>\n",
       "      <td id=\"T_23c39_row15_col0\" class=\"data row15 col0\" >Everton</td>\n",
       "      <td id=\"T_23c39_row15_col1\" class=\"data row15 col1\" >38</td>\n",
       "      <td id=\"T_23c39_row15_col2\" class=\"data row15 col2\" >11</td>\n",
       "      <td id=\"T_23c39_row15_col3\" class=\"data row15 col3\" >6</td>\n",
       "      <td id=\"T_23c39_row15_col4\" class=\"data row15 col4\" >21</td>\n",
       "      <td id=\"T_23c39_row15_col5\" class=\"data row15 col5\" >43</td>\n",
       "      <td id=\"T_23c39_row15_col6\" class=\"data row15 col6\" >66</td>\n",
       "      <td id=\"T_23c39_row15_col7\" class=\"data row15 col7\" >-23</td>\n",
       "      <td id=\"T_23c39_row15_col8\" class=\"data row15 col8\" >39</td>\n",
       "    </tr>\n",
       "    <tr>\n",
       "      <th id=\"T_23c39_level0_row16\" class=\"row_heading level0 row16\" >16</th>\n",
       "      <td id=\"T_23c39_row16_col0\" class=\"data row16 col0\" >Leeds</td>\n",
       "      <td id=\"T_23c39_row16_col1\" class=\"data row16 col1\" >38</td>\n",
       "      <td id=\"T_23c39_row16_col2\" class=\"data row16 col2\" >9</td>\n",
       "      <td id=\"T_23c39_row16_col3\" class=\"data row16 col3\" >11</td>\n",
       "      <td id=\"T_23c39_row16_col4\" class=\"data row16 col4\" >18</td>\n",
       "      <td id=\"T_23c39_row16_col5\" class=\"data row16 col5\" >42</td>\n",
       "      <td id=\"T_23c39_row16_col6\" class=\"data row16 col6\" >79</td>\n",
       "      <td id=\"T_23c39_row16_col7\" class=\"data row16 col7\" >-37</td>\n",
       "      <td id=\"T_23c39_row16_col8\" class=\"data row16 col8\" >38</td>\n",
       "    </tr>\n",
       "    <tr>\n",
       "      <th id=\"T_23c39_level0_row17\" class=\"row_heading level0 row17\" >17</th>\n",
       "      <td id=\"T_23c39_row17_col0\" class=\"data row17 col0\" >Burnley</td>\n",
       "      <td id=\"T_23c39_row17_col1\" class=\"data row17 col1\" >38</td>\n",
       "      <td id=\"T_23c39_row17_col2\" class=\"data row17 col2\" >7</td>\n",
       "      <td id=\"T_23c39_row17_col3\" class=\"data row17 col3\" >14</td>\n",
       "      <td id=\"T_23c39_row17_col4\" class=\"data row17 col4\" >17</td>\n",
       "      <td id=\"T_23c39_row17_col5\" class=\"data row17 col5\" >34</td>\n",
       "      <td id=\"T_23c39_row17_col6\" class=\"data row17 col6\" >53</td>\n",
       "      <td id=\"T_23c39_row17_col7\" class=\"data row17 col7\" >-19</td>\n",
       "      <td id=\"T_23c39_row17_col8\" class=\"data row17 col8\" >35</td>\n",
       "    </tr>\n",
       "    <tr>\n",
       "      <th id=\"T_23c39_level0_row18\" class=\"row_heading level0 row18\" >18</th>\n",
       "      <td id=\"T_23c39_row18_col0\" class=\"data row18 col0\" >Watford</td>\n",
       "      <td id=\"T_23c39_row18_col1\" class=\"data row18 col1\" >38</td>\n",
       "      <td id=\"T_23c39_row18_col2\" class=\"data row18 col2\" >6</td>\n",
       "      <td id=\"T_23c39_row18_col3\" class=\"data row18 col3\" >5</td>\n",
       "      <td id=\"T_23c39_row18_col4\" class=\"data row18 col4\" >27</td>\n",
       "      <td id=\"T_23c39_row18_col5\" class=\"data row18 col5\" >34</td>\n",
       "      <td id=\"T_23c39_row18_col6\" class=\"data row18 col6\" >77</td>\n",
       "      <td id=\"T_23c39_row18_col7\" class=\"data row18 col7\" >-43</td>\n",
       "      <td id=\"T_23c39_row18_col8\" class=\"data row18 col8\" >23</td>\n",
       "    </tr>\n",
       "    <tr>\n",
       "      <th id=\"T_23c39_level0_row19\" class=\"row_heading level0 row19\" >19</th>\n",
       "      <td id=\"T_23c39_row19_col0\" class=\"data row19 col0\" >Norwich</td>\n",
       "      <td id=\"T_23c39_row19_col1\" class=\"data row19 col1\" >38</td>\n",
       "      <td id=\"T_23c39_row19_col2\" class=\"data row19 col2\" >5</td>\n",
       "      <td id=\"T_23c39_row19_col3\" class=\"data row19 col3\" >7</td>\n",
       "      <td id=\"T_23c39_row19_col4\" class=\"data row19 col4\" >26</td>\n",
       "      <td id=\"T_23c39_row19_col5\" class=\"data row19 col5\" >23</td>\n",
       "      <td id=\"T_23c39_row19_col6\" class=\"data row19 col6\" >84</td>\n",
       "      <td id=\"T_23c39_row19_col7\" class=\"data row19 col7\" >-61</td>\n",
       "      <td id=\"T_23c39_row19_col8\" class=\"data row19 col8\" >22</td>\n",
       "    </tr>\n",
       "  </tbody>\n",
       "</table>\n"
      ],
      "text/plain": [
       "<pandas.io.formats.style.Styler at 0x20ad0e9eeb0>"
      ]
     },
     "execution_count": 68,
     "metadata": {},
     "output_type": "execute_result"
    }
   ],
   "source": [
    "table = table.sort_values(by='Points', ascending=False)\n",
    "table = table.reset_index()\n",
    "cl = ['Man City', 'Liverpool', 'Chelsea','Tottenham']\n",
    "el = ['Arsenal']\n",
    "relegate = ['Burnley','Watford','Norwich']\n",
    "cl_style = 'color:white; background-color:darkgreen;text-shadow: 3px 3px 3px black;'\n",
    "tott_style = 'color:white;background-color:darkorange;text-shadow: 3px 3px 3px black;'\n",
    "el_style = 'color:white;background-color:darkblue;text-shadow: 3px 3px 3px black;'\n",
    "rel_style = 'color:white;background-color:darkred;text-shadow: 3px 3px 3px black;'\n",
    "t1 = table.style.\\\n",
    "applymap(lambda v:  cl_style if v in cl  else None)\\\n",
    ".applymap(lambda v: tott_style  if v in ['Man United', 'West Ham']  else None)\\\n",
    ".applymap(lambda v: el_style  if v in el  else None)\\\n",
    ".applymap(lambda v: rel_style  if v in relegate  else None)\n",
    "t1.set_caption('⚽ EPL Table Season 2021-2022 ⚽')"
   ]
  },
  {
   "cell_type": "markdown",
   "metadata": {},
   "source": [
    "- *Green color --> qualified for Champion League* \n",
    "- *Blue color --> qualified for Europa league*\n",
    "- *Orange color --> qualified for Europa League and Europa Conference League*\n",
    "- *Red color --> Relegate to English Championship*"
   ]
  },
  {
   "cell_type": "code",
   "execution_count": 69,
   "metadata": {},
   "outputs": [
    {
     "data": {
      "image/png": "[encoded data removed]",
      "text/plain": [
       "<Figure size 1080x360 with 1 Axes>"
      ]
     },
     "metadata": {
      "needs_background": "light"
     },
     "output_type": "display_data"
    }
   ],
   "source": [
    "table.plot(x='Team', y='Points', kind='bar',figsize=(15,5), edgecolor='black', linewidth=1.8);\n",
    "for i, u in enumerate(table.Points.tolist()):\n",
    "        plt.annotate(str(u), xy=(i-0.1, u), xytext=(i-0.125, 2), bbox = dict(boxstyle=\"round\", fc=\"0.8\",\n",
    "                                                                   color='black'))\n",
    "plt.hlines(table.Points.mean(), -1, 20, label='Avg Pts', color='red', linestyles='dashdot');\n",
    "plt.legend();\n",
    "plt.title('EPL ranking points');"
   ]
  },
  {
   "cell_type": "markdown",
   "metadata": {},
   "source": [
    "This result is better than last year (both points (45) or position (12)) and the gap between the avg points is just 3 points"
   ]
  },
  {
   "cell_type": "code",
   "execution_count": 70,
   "metadata": {},
   "outputs": [
    {
     "data": {
      "image/png": "[encoded data removed]",
      "text/plain": [
       "<Figure size 432x288 with 8 Axes>"
      ]
     },
     "metadata": {
      "needs_background": "light"
     },
     "output_type": "display_data"
    }
   ],
   "source": [
    "table.drop(columns=['Played']).plot(layout=(2, 4), subplots=True, kind='box');\n",
    "plt.suptitle('EPL fixture', y=1.05);"
   ]
  },
  {
   "cell_type": "markdown",
   "metadata": {},
   "source": [
    "***Manchester City***⭐ *and* ***Liverpool***⭐ *have outperformed this EPL season 21/22. (see outlier in  W, L, GF, GD and Pts chart)*"
   ]
  },
  {
   "cell_type": "code",
   "execution_count": 71,
   "metadata": {},
   "outputs": [],
   "source": [
    "t2 =table.sort_values('GF', ascending=True)\n",
    "vcols = t2.Team.tolist()[:5]"
   ]
  },
  {
   "cell_type": "code",
   "execution_count": 72,
   "metadata": {},
   "outputs": [
    {
     "data": {
      "text/html": [
       "<style type=\"text/css\">\n",
       "#T_65689_row0_col0, #T_65689_row1_col0, #T_65689_row2_col0, #T_65689_row3_col0, #T_65689_row4_col0 {\n",
       "  color: white;\n",
       "  background-color: darkblue;\n",
       "  text-shadow: 3px 3px 3px black;\n",
       "}\n",
       "#T_65689_row0_col1 {\n",
       "  width: 10em;\n",
       "  height: 80%;\n",
       "  background: linear-gradient(90deg,#d65f5f 54.8%, transparent 54.8%);\n",
       "}\n",
       "#T_65689_row1_col1, #T_65689_row2_col1 {\n",
       "  width: 10em;\n",
       "  height: 80%;\n",
       "  background: linear-gradient(90deg,#d65f5f 81.0%, transparent 81.0%);\n",
       "}\n",
       "#T_65689_row3_col1 {\n",
       "  width: 10em;\n",
       "  height: 80%;\n",
       "  background: linear-gradient(90deg,#d65f5f 90.5%, transparent 90.5%);\n",
       "}\n",
       "#T_65689_row4_col1 {\n",
       "  width: 10em;\n",
       "  height: 80%;\n",
       "  background: linear-gradient(90deg,#d65f5f 100.0%, transparent 100.0%);\n",
       "}\n",
       "</style>\n",
       "<table id=\"T_65689_\">\n",
       "  <caption> ⚽Five worst attack ⚽ </caption>\n",
       "  <thead>\n",
       "    <tr>\n",
       "      <th class=\"blank level0\" >&nbsp;</th>\n",
       "      <th class=\"col_heading level0 col0\" >Team</th>\n",
       "      <th class=\"col_heading level0 col1\" >GF</th>\n",
       "    </tr>\n",
       "  </thead>\n",
       "  <tbody>\n",
       "    <tr>\n",
       "      <th id=\"T_65689_level0_row0\" class=\"row_heading level0 row0\" >19</th>\n",
       "      <td id=\"T_65689_row0_col0\" class=\"data row0 col0\" >Norwich</td>\n",
       "      <td id=\"T_65689_row0_col1\" class=\"data row0 col1\" >23</td>\n",
       "    </tr>\n",
       "    <tr>\n",
       "      <th id=\"T_65689_level0_row1\" class=\"row_heading level0 row1\" >17</th>\n",
       "      <td id=\"T_65689_row1_col0\" class=\"data row1 col0\" >Burnley</td>\n",
       "      <td id=\"T_65689_row1_col1\" class=\"data row1 col1\" >34</td>\n",
       "    </tr>\n",
       "    <tr>\n",
       "      <th id=\"T_65689_level0_row2\" class=\"row_heading level0 row2\" >18</th>\n",
       "      <td id=\"T_65689_row2_col0\" class=\"data row2 col0\" >Watford</td>\n",
       "      <td id=\"T_65689_row2_col1\" class=\"data row2 col1\" >34</td>\n",
       "    </tr>\n",
       "    <tr>\n",
       "      <th id=\"T_65689_level0_row3\" class=\"row_heading level0 row3\" >9</th>\n",
       "      <td id=\"T_65689_row3_col0\" class=\"data row3 col0\" >Wolves</td>\n",
       "      <td id=\"T_65689_row3_col1\" class=\"data row3 col1\" >38</td>\n",
       "    </tr>\n",
       "    <tr>\n",
       "      <th id=\"T_65689_level0_row4\" class=\"row_heading level0 row4\" >8</th>\n",
       "      <td id=\"T_65689_row4_col0\" class=\"data row4 col0\" >Brighton</td>\n",
       "      <td id=\"T_65689_row4_col1\" class=\"data row4 col1\" >42</td>\n",
       "    </tr>\n",
       "  </tbody>\n",
       "</table>\n"
      ],
      "text/plain": [
       "<pandas.io.formats.style.Styler at 0x20ad5173880>"
      ]
     },
     "execution_count": 72,
     "metadata": {},
     "output_type": "execute_result"
    }
   ],
   "source": [
    "t2.head(5)[['Team','GF']].style.applymap(lambda v: el_style if v in vcols  else None)\\\n",
    ".set_caption(' ⚽Five worst attack ⚽ ').bar(align='mid')"
   ]
  },
  {
   "cell_type": "code",
   "execution_count": 73,
   "metadata": {},
   "outputs": [],
   "source": [
    "t3 =table.sort_values('GA', ascending=False)\n",
    "vc = t3.Team.tolist()[:5]\n"
   ]
  },
  {
   "cell_type": "code",
   "execution_count": 74,
   "metadata": {},
   "outputs": [
    {
     "data": {
      "text/html": [
       "<style type=\"text/css\">\n",
       "#T_c4fae_row0_col0, #T_c4fae_row1_col0, #T_c4fae_row2_col0, #T_c4fae_row3_col0, #T_c4fae_row4_col0 {\n",
       "  color: white;\n",
       "  background-color: darkblue;\n",
       "  text-shadow: 3px 3px 3px black;\n",
       "}\n",
       "#T_c4fae_row0_col1 {\n",
       "  width: 10em;\n",
       "  height: 80%;\n",
       "  background: linear-gradient(90deg,#d65f5f 100.0%, transparent 100.0%);\n",
       "}\n",
       "#T_c4fae_row1_col1 {\n",
       "  width: 10em;\n",
       "  height: 80%;\n",
       "  background: linear-gradient(90deg,#d65f5f 94.0%, transparent 94.0%);\n",
       "}\n",
       "#T_c4fae_row2_col1 {\n",
       "  width: 10em;\n",
       "  height: 80%;\n",
       "  background: linear-gradient(90deg,#d65f5f 91.7%, transparent 91.7%);\n",
       "}\n",
       "#T_c4fae_row3_col1 {\n",
       "  width: 10em;\n",
       "  height: 80%;\n",
       "  background: linear-gradient(90deg,#d65f5f 79.8%, transparent 79.8%);\n",
       "}\n",
       "#T_c4fae_row4_col1 {\n",
       "  width: 10em;\n",
       "  height: 80%;\n",
       "  background: linear-gradient(90deg,#d65f5f 78.6%, transparent 78.6%);\n",
       "}\n",
       "</style>\n",
       "<table id=\"T_c4fae_\">\n",
       "  <caption>⚽ Five worst defense ⚽</caption>\n",
       "  <thead>\n",
       "    <tr>\n",
       "      <th class=\"blank level0\" >&nbsp;</th>\n",
       "      <th class=\"col_heading level0 col0\" >Team</th>\n",
       "      <th class=\"col_heading level0 col1\" >GA</th>\n",
       "    </tr>\n",
       "  </thead>\n",
       "  <tbody>\n",
       "    <tr>\n",
       "      <th id=\"T_c4fae_level0_row0\" class=\"row_heading level0 row0\" >19</th>\n",
       "      <td id=\"T_c4fae_row0_col0\" class=\"data row0 col0\" >Norwich</td>\n",
       "      <td id=\"T_c4fae_row0_col1\" class=\"data row0 col1\" >84</td>\n",
       "    </tr>\n",
       "    <tr>\n",
       "      <th id=\"T_c4fae_level0_row1\" class=\"row_heading level0 row1\" >16</th>\n",
       "      <td id=\"T_c4fae_row1_col0\" class=\"data row1 col0\" >Leeds</td>\n",
       "      <td id=\"T_c4fae_row1_col1\" class=\"data row1 col1\" >79</td>\n",
       "    </tr>\n",
       "    <tr>\n",
       "      <th id=\"T_c4fae_level0_row2\" class=\"row_heading level0 row2\" >18</th>\n",
       "      <td id=\"T_c4fae_row2_col0\" class=\"data row2 col0\" >Watford</td>\n",
       "      <td id=\"T_c4fae_row2_col1\" class=\"data row2 col1\" >77</td>\n",
       "    </tr>\n",
       "    <tr>\n",
       "      <th id=\"T_c4fae_level0_row3\" class=\"row_heading level0 row3\" >14</th>\n",
       "      <td id=\"T_c4fae_row3_col0\" class=\"data row3 col0\" >Southampton</td>\n",
       "      <td id=\"T_c4fae_row3_col1\" class=\"data row3 col1\" >67</td>\n",
       "    </tr>\n",
       "    <tr>\n",
       "      <th id=\"T_c4fae_level0_row4\" class=\"row_heading level0 row4\" >15</th>\n",
       "      <td id=\"T_c4fae_row4_col0\" class=\"data row4 col0\" >Everton</td>\n",
       "      <td id=\"T_c4fae_row4_col1\" class=\"data row4 col1\" >66</td>\n",
       "    </tr>\n",
       "  </tbody>\n",
       "</table>\n"
      ],
      "text/plain": [
       "<pandas.io.formats.style.Styler at 0x20ad5166dc0>"
      ]
     },
     "execution_count": 74,
     "metadata": {},
     "output_type": "execute_result"
    }
   ],
   "source": [
    "t3.head(5)[['Team','GA']].style.applymap(lambda v: el_style if v in vc  else None)\\\n",
    ".set_caption('⚽ Five worst defense ⚽').bar(align='mid')"
   ]
  },
  {
   "cell_type": "markdown",
   "metadata": {},
   "source": [
    "Thankfully Newcastle United not in the worst attacking or defending in this season"
   ]
  },
  {
   "cell_type": "markdown",
   "metadata": {},
   "source": [
    "# NEWCASTLE UNITED F.C."
   ]
  },
  {
   "cell_type": "markdown",
   "metadata": {},
   "source": [
    "Newcastle United Football Club is an English professional football club, based in Newcastle upon Tyne, that plays in the Premier League – the top flight of English football. The club was founded in 1892 by the merger of Newcastle East End and Newcastle West End. The team play their home matches at St James' Park in the centre of Newcastle. Following the Taylor Report's requirement that all Premier League clubs have all-seater stadiums, the ground was modified in the mid-1990s and currently has a capacity of 52,305."
   ]
  },
  {
   "cell_type": "markdown",
   "metadata": {},
   "source": [
    "In this 2021/2022 season there are 2 interesting events in Newcastle United :\n",
    "- After 14 years as owner, Ashley sold the club to a new consortium for a reported £305 million, making them the richest football club in the world. The consortium was made up of Saudi Arabia's Public Investment Fund, RB Sports & Media and PCP Capital Partners.\n",
    "- On 20 October 2021, Bruce left his position by mutual consent, Eddie Howe was appointed as Bruce's replacement a few weeks later on 8 November 2021."
   ]
  },
  {
   "cell_type": "markdown",
   "metadata": {},
   "source": [
    "So season 2021/2022 might be interesting to see Newcastle United performance, Lets go"
   ]
  },
  {
   "cell_type": "code",
   "execution_count": 75,
   "metadata": {},
   "outputs": [],
   "source": [
    "allresult = pd.read_csv('all_match_results.csv')"
   ]
  },
  {
   "cell_type": "code",
   "execution_count": 76,
   "metadata": {},
   "outputs": [
    {
     "data": {
      "text/html": [
       "<div>\n",
       "<style scoped>\n",
       "    .dataframe tbody tr th:only-of-type {\n",
       "        vertical-align: middle;\n",
       "    }\n",
       "\n",
       "    .dataframe tbody tr th {\n",
       "        vertical-align: top;\n",
       "    }\n",
       "\n",
       "    .dataframe thead th {\n",
       "        text-align: right;\n",
       "    }\n",
       "</style>\n",
       "<table border=\"1\" class=\"dataframe\">\n",
       "  <thead>\n",
       "    <tr style=\"text-align: right;\">\n",
       "      <th></th>\n",
       "      <th>Date</th>\n",
       "      <th>HomeTeam</th>\n",
       "      <th>Result</th>\n",
       "      <th>AwayTeam</th>\n",
       "    </tr>\n",
       "  </thead>\n",
       "  <tbody>\n",
       "    <tr>\n",
       "      <th>0</th>\n",
       "      <td>2021-08-13</td>\n",
       "      <td>Brentford</td>\n",
       "      <td>2:0</td>\n",
       "      <td>Arsenal</td>\n",
       "    </tr>\n",
       "    <tr>\n",
       "      <th>1</th>\n",
       "      <td>2021-08-14</td>\n",
       "      <td>Burnley</td>\n",
       "      <td>1:2</td>\n",
       "      <td>Brighton and Hove Albion</td>\n",
       "    </tr>\n",
       "    <tr>\n",
       "      <th>2</th>\n",
       "      <td>2021-08-14</td>\n",
       "      <td>Chelsea</td>\n",
       "      <td>3:0</td>\n",
       "      <td>Crystal Palace</td>\n",
       "    </tr>\n",
       "    <tr>\n",
       "      <th>3</th>\n",
       "      <td>2021-08-14</td>\n",
       "      <td>Everton</td>\n",
       "      <td>3:1</td>\n",
       "      <td>Southampton</td>\n",
       "    </tr>\n",
       "    <tr>\n",
       "      <th>4</th>\n",
       "      <td>2021-08-14</td>\n",
       "      <td>Leicester City</td>\n",
       "      <td>1:0</td>\n",
       "      <td>Wolverhampton Wanderers</td>\n",
       "    </tr>\n",
       "  </tbody>\n",
       "</table>\n",
       "</div>"
      ],
      "text/plain": [
       "        Date        HomeTeam Result                  AwayTeam\n",
       "0 2021-08-13       Brentford    2:0                   Arsenal\n",
       "1 2021-08-14         Burnley    1:2  Brighton and Hove Albion\n",
       "2 2021-08-14         Chelsea    3:0            Crystal Palace\n",
       "3 2021-08-14         Everton    3:1               Southampton\n",
       "4 2021-08-14  Leicester City    1:0   Wolverhampton Wanderers"
      ]
     },
     "execution_count": 76,
     "metadata": {},
     "output_type": "execute_result"
    }
   ],
   "source": [
    "allresult['Date'] = pd.to_datetime(allresult['Date'])\n",
    "allresult.head()"
   ]
  },
  {
   "cell_type": "markdown",
   "metadata": {},
   "source": [
    "First we want to see only Newcastle United Fixtures"
   ]
  },
  {
   "cell_type": "code",
   "execution_count": 77,
   "metadata": {},
   "outputs": [],
   "source": [
    "newcastle_home = allresult[allresult.HomeTeam == 'Newcastle United']\n",
    "newcastle_away = allresult[allresult.AwayTeam == 'Newcastle United']"
   ]
  },
  {
   "cell_type": "markdown",
   "metadata": {},
   "source": [
    "After that we want to see behavior of newcastle first leg ( < 5 January 2022) and second leg (5 January 2022 <). "
   ]
  },
  {
   "cell_type": "code",
   "execution_count": 78,
   "metadata": {},
   "outputs": [],
   "source": [
    "first_leg = newcastle_home[newcastle_home.Date < '2022-01-05'].append(newcastle_away[newcastle_away.Date < '2022-01-05']) \n",
    "second_leg = newcastle_home[newcastle_home.Date > '2022-01-05'].append(newcastle_away[newcastle_away.Date > '2022-01-05']) "
   ]
  },
  {
   "cell_type": "markdown",
   "metadata": {},
   "source": [
    "Then we define the decision (win,draw or lose) , gf, ga"
   ]
  },
  {
   "cell_type": "code",
   "execution_count": 79,
   "metadata": {},
   "outputs": [],
   "source": [
    "def wdl_home(data):\n",
    "    \n",
    "    decision = []\n",
    "    gf = []\n",
    "    ga = []\n",
    "    home = data[data.HomeTeam == 'Newcastle United']\n",
    "    \n",
    "    for u, v in [row.split(':') for row in home.Result.tolist()]:\n",
    "        \n",
    "        u = int(u)\n",
    "        v = int(v)\n",
    "        if u > v:\n",
    "            decision.append('W')\n",
    "            gf.append(u)\n",
    "            ga.append(v)\n",
    "        elif u < v:\n",
    "            decision.append('L')\n",
    "            gf.append(u)\n",
    "            ga.append(v)\n",
    "        else:\n",
    "            decision.append('D')\n",
    "            gf.append(u)\n",
    "            ga.append(v)\n",
    "    home['WDL'] = decision\n",
    "    home['Scored'] = gf\n",
    "    home['Conceded'] = ga\n",
    "    home['GD'] = home['Scored'] - home['Conceded']\n",
    "    return home\n",
    "\n",
    "def wdl_away(data):\n",
    "    \n",
    "    decision = []\n",
    "    gf = []\n",
    "    ga = []\n",
    "    \n",
    "    away = data[data.AwayTeam == 'Newcastle United']\n",
    "    \n",
    "    for u, v in [row.split(':') for row in away.Result.tolist()]:\n",
    "        \n",
    "        u = int(u)\n",
    "        v = int(v)\n",
    "        if u > v:\n",
    "            decision.append('L')\n",
    "            gf.append(v)\n",
    "            ga.append(u)\n",
    "        elif u < v:\n",
    "            decision.append('W')\n",
    "            gf.append(v)\n",
    "            ga.append(u)\n",
    "        else:\n",
    "            decision.append('D')\n",
    "            gf.append(v)\n",
    "            ga.append(u)\n",
    "            \n",
    "    away['WDL'] = decision\n",
    "    away['Scored'] = gf\n",
    "    away['Conceded'] = ga\n",
    "    away['GD'] = away['Scored'] - away['Conceded']\n",
    "    return away"
   ]
  },
  {
   "cell_type": "markdown",
   "metadata": {},
   "source": [
    "##### First Leg Result"
   ]
  },
  {
   "cell_type": "code",
   "execution_count": 80,
   "metadata": {},
   "outputs": [],
   "source": [
    "first_leg.sort_values('Date', inplace=True)\n",
    "first_leg.set_index('Date', inplace=True)"
   ]
  },
  {
   "cell_type": "code",
   "execution_count": 81,
   "metadata": {},
   "outputs": [
    {
     "name": "stderr",
     "output_type": "stream",
     "text": [
      "C:\\Users\\HEWLET~1\\AppData\\Local\\Temp/ipykernel_5884/3635457281.py:24: SettingWithCopyWarning:\n",
      "\n",
      "\n",
      "A value is trying to be set on a copy of a slice from a DataFrame.\n",
      "Try using .loc[row_indexer,col_indexer] = value instead\n",
      "\n",
      "See the caveats in the documentation: https://pandas.pydata.org/pandas-docs/stable/user_guide/indexing.html#returning-a-view-versus-a-copy\n",
      "\n",
      "C:\\Users\\HEWLET~1\\AppData\\Local\\Temp/ipykernel_5884/3635457281.py:25: SettingWithCopyWarning:\n",
      "\n",
      "\n",
      "A value is trying to be set on a copy of a slice from a DataFrame.\n",
      "Try using .loc[row_indexer,col_indexer] = value instead\n",
      "\n",
      "See the caveats in the documentation: https://pandas.pydata.org/pandas-docs/stable/user_guide/indexing.html#returning-a-view-versus-a-copy\n",
      "\n",
      "C:\\Users\\HEWLET~1\\AppData\\Local\\Temp/ipykernel_5884/3635457281.py:26: SettingWithCopyWarning:\n",
      "\n",
      "\n",
      "A value is trying to be set on a copy of a slice from a DataFrame.\n",
      "Try using .loc[row_indexer,col_indexer] = value instead\n",
      "\n",
      "See the caveats in the documentation: https://pandas.pydata.org/pandas-docs/stable/user_guide/indexing.html#returning-a-view-versus-a-copy\n",
      "\n",
      "C:\\Users\\HEWLET~1\\AppData\\Local\\Temp/ipykernel_5884/3635457281.py:27: SettingWithCopyWarning:\n",
      "\n",
      "\n",
      "A value is trying to be set on a copy of a slice from a DataFrame.\n",
      "Try using .loc[row_indexer,col_indexer] = value instead\n",
      "\n",
      "See the caveats in the documentation: https://pandas.pydata.org/pandas-docs/stable/user_guide/indexing.html#returning-a-view-versus-a-copy\n",
      "\n",
      "C:\\Users\\HEWLET~1\\AppData\\Local\\Temp/ipykernel_5884/3635457281.py:55: SettingWithCopyWarning:\n",
      "\n",
      "\n",
      "A value is trying to be set on a copy of a slice from a DataFrame.\n",
      "Try using .loc[row_indexer,col_indexer] = value instead\n",
      "\n",
      "See the caveats in the documentation: https://pandas.pydata.org/pandas-docs/stable/user_guide/indexing.html#returning-a-view-versus-a-copy\n",
      "\n",
      "C:\\Users\\HEWLET~1\\AppData\\Local\\Temp/ipykernel_5884/3635457281.py:56: SettingWithCopyWarning:\n",
      "\n",
      "\n",
      "A value is trying to be set on a copy of a slice from a DataFrame.\n",
      "Try using .loc[row_indexer,col_indexer] = value instead\n",
      "\n",
      "See the caveats in the documentation: https://pandas.pydata.org/pandas-docs/stable/user_guide/indexing.html#returning-a-view-versus-a-copy\n",
      "\n",
      "C:\\Users\\HEWLET~1\\AppData\\Local\\Temp/ipykernel_5884/3635457281.py:57: SettingWithCopyWarning:\n",
      "\n",
      "\n",
      "A value is trying to be set on a copy of a slice from a DataFrame.\n",
      "Try using .loc[row_indexer,col_indexer] = value instead\n",
      "\n",
      "See the caveats in the documentation: https://pandas.pydata.org/pandas-docs/stable/user_guide/indexing.html#returning-a-view-versus-a-copy\n",
      "\n",
      "C:\\Users\\HEWLET~1\\AppData\\Local\\Temp/ipykernel_5884/3635457281.py:58: SettingWithCopyWarning:\n",
      "\n",
      "\n",
      "A value is trying to be set on a copy of a slice from a DataFrame.\n",
      "Try using .loc[row_indexer,col_indexer] = value instead\n",
      "\n",
      "See the caveats in the documentation: https://pandas.pydata.org/pandas-docs/stable/user_guide/indexing.html#returning-a-view-versus-a-copy\n",
      "\n"
     ]
    },
    {
     "data": {
      "text/html": [
       "<div>\n",
       "<style scoped>\n",
       "    .dataframe tbody tr th:only-of-type {\n",
       "        vertical-align: middle;\n",
       "    }\n",
       "\n",
       "    .dataframe tbody tr th {\n",
       "        vertical-align: top;\n",
       "    }\n",
       "\n",
       "    .dataframe thead th {\n",
       "        text-align: right;\n",
       "    }\n",
       "</style>\n",
       "<table border=\"1\" class=\"dataframe\">\n",
       "  <thead>\n",
       "    <tr style=\"text-align: right;\">\n",
       "      <th></th>\n",
       "      <th>HomeTeam</th>\n",
       "      <th>Result</th>\n",
       "      <th>AwayTeam</th>\n",
       "      <th>WDL</th>\n",
       "      <th>Scored</th>\n",
       "      <th>Conceded</th>\n",
       "      <th>GD</th>\n",
       "    </tr>\n",
       "    <tr>\n",
       "      <th>Date</th>\n",
       "      <th></th>\n",
       "      <th></th>\n",
       "      <th></th>\n",
       "      <th></th>\n",
       "      <th></th>\n",
       "      <th></th>\n",
       "      <th></th>\n",
       "    </tr>\n",
       "  </thead>\n",
       "  <tbody>\n",
       "    <tr>\n",
       "      <th>2021-08-15</th>\n",
       "      <td>Newcastle United</td>\n",
       "      <td>2:4</td>\n",
       "      <td>West Ham United</td>\n",
       "      <td>L</td>\n",
       "      <td>2</td>\n",
       "      <td>4</td>\n",
       "      <td>-2</td>\n",
       "    </tr>\n",
       "    <tr>\n",
       "      <th>2021-08-28</th>\n",
       "      <td>Newcastle United</td>\n",
       "      <td>2:2</td>\n",
       "      <td>Southampton</td>\n",
       "      <td>D</td>\n",
       "      <td>2</td>\n",
       "      <td>2</td>\n",
       "      <td>0</td>\n",
       "    </tr>\n",
       "    <tr>\n",
       "      <th>2021-09-17</th>\n",
       "      <td>Newcastle United</td>\n",
       "      <td>1:1</td>\n",
       "      <td>Leeds United</td>\n",
       "      <td>D</td>\n",
       "      <td>1</td>\n",
       "      <td>1</td>\n",
       "      <td>0</td>\n",
       "    </tr>\n",
       "    <tr>\n",
       "      <th>2021-10-17</th>\n",
       "      <td>Newcastle United</td>\n",
       "      <td>2:3</td>\n",
       "      <td>Tottenham Hotspur</td>\n",
       "      <td>L</td>\n",
       "      <td>2</td>\n",
       "      <td>3</td>\n",
       "      <td>-1</td>\n",
       "    </tr>\n",
       "    <tr>\n",
       "      <th>2021-10-30</th>\n",
       "      <td>Newcastle United</td>\n",
       "      <td>0:3</td>\n",
       "      <td>Chelsea</td>\n",
       "      <td>L</td>\n",
       "      <td>0</td>\n",
       "      <td>3</td>\n",
       "      <td>-3</td>\n",
       "    </tr>\n",
       "    <tr>\n",
       "      <th>2021-11-20</th>\n",
       "      <td>Newcastle United</td>\n",
       "      <td>3:3</td>\n",
       "      <td>Brentford</td>\n",
       "      <td>D</td>\n",
       "      <td>3</td>\n",
       "      <td>3</td>\n",
       "      <td>0</td>\n",
       "    </tr>\n",
       "    <tr>\n",
       "      <th>2021-11-30</th>\n",
       "      <td>Newcastle United</td>\n",
       "      <td>1:1</td>\n",
       "      <td>Norwich City</td>\n",
       "      <td>D</td>\n",
       "      <td>1</td>\n",
       "      <td>1</td>\n",
       "      <td>0</td>\n",
       "    </tr>\n",
       "    <tr>\n",
       "      <th>2021-12-04</th>\n",
       "      <td>Newcastle United</td>\n",
       "      <td>1:0</td>\n",
       "      <td>Burnley</td>\n",
       "      <td>W</td>\n",
       "      <td>1</td>\n",
       "      <td>0</td>\n",
       "      <td>1</td>\n",
       "    </tr>\n",
       "    <tr>\n",
       "      <th>2021-12-19</th>\n",
       "      <td>Newcastle United</td>\n",
       "      <td>0:4</td>\n",
       "      <td>Manchester City</td>\n",
       "      <td>L</td>\n",
       "      <td>0</td>\n",
       "      <td>4</td>\n",
       "      <td>-4</td>\n",
       "    </tr>\n",
       "    <tr>\n",
       "      <th>2021-12-27</th>\n",
       "      <td>Newcastle United</td>\n",
       "      <td>1:1</td>\n",
       "      <td>Manchester United</td>\n",
       "      <td>D</td>\n",
       "      <td>1</td>\n",
       "      <td>1</td>\n",
       "      <td>0</td>\n",
       "    </tr>\n",
       "  </tbody>\n",
       "</table>\n",
       "</div>"
      ],
      "text/plain": [
       "                    HomeTeam Result           AwayTeam WDL  Scored  Conceded  \\\n",
       "Date                                                                           \n",
       "2021-08-15  Newcastle United    2:4    West Ham United   L       2         4   \n",
       "2021-08-28  Newcastle United    2:2        Southampton   D       2         2   \n",
       "2021-09-17  Newcastle United    1:1       Leeds United   D       1         1   \n",
       "2021-10-17  Newcastle United    2:3  Tottenham Hotspur   L       2         3   \n",
       "2021-10-30  Newcastle United    0:3            Chelsea   L       0         3   \n",
       "2021-11-20  Newcastle United    3:3          Brentford   D       3         3   \n",
       "2021-11-30  Newcastle United    1:1       Norwich City   D       1         1   \n",
       "2021-12-04  Newcastle United    1:0            Burnley   W       1         0   \n",
       "2021-12-19  Newcastle United    0:4    Manchester City   L       0         4   \n",
       "2021-12-27  Newcastle United    1:1  Manchester United   D       1         1   \n",
       "\n",
       "            GD  \n",
       "Date            \n",
       "2021-08-15  -2  \n",
       "2021-08-28   0  \n",
       "2021-09-17   0  \n",
       "2021-10-17  -1  \n",
       "2021-10-30  -3  \n",
       "2021-11-20   0  \n",
       "2021-11-30   0  \n",
       "2021-12-04   1  \n",
       "2021-12-19  -4  \n",
       "2021-12-27   0  "
      ]
     },
     "execution_count": 81,
     "metadata": {},
     "output_type": "execute_result"
    }
   ],
   "source": [
    "home_1stleg = wdl_home(first_leg)\n",
    "away_1stleg = wdl_away(first_leg)\n",
    "home_1stleg"
   ]
  },
  {
   "cell_type": "code",
   "execution_count": 82,
   "metadata": {},
   "outputs": [
    {
     "data": {
      "image/png": "[encoded data removed]",
      "text/plain": [
       "<Figure size 1080x360 with 2 Axes>"
      ]
     },
     "metadata": {
      "needs_background": "light"
     },
     "output_type": "display_data"
    }
   ],
   "source": [
    "fig = plt.figure(figsize=(15, 5))\n",
    "fig.subplots_adjust(wspace=0.3)\n",
    "ax1 = fig.add_subplot(1,2,1)\n",
    "ax2 = fig.add_subplot(1,2,2)\n",
    "home_1stleg.WDL.value_counts().plot.bar(edgecolor='black', linewidth=1.2, label='Newcastle at home',\n",
    "                                        color='black', ax=ax1);\n",
    "ax1.set_ylabel('counts')\n",
    "ax1.set_title('WDL home')\n",
    "ax1.legend();\n",
    "away_1stleg.WDL.value_counts().plot.bar(edgecolor='black', linewidth=1.2, label='Newcastle at away',\n",
    "                                        color='blue', ax=ax2);\n",
    "ax2.set_title('WDL away')\n",
    "ax2.set_ylabel('counts')\n",
    "ax2.legend();"
   ]
  },
  {
   "cell_type": "markdown",
   "metadata": {},
   "source": [
    "- *At St James Park, Newcastle United have **`won 1 games, lost 4 games and draw 5 game`**.*\n",
    "- *At away, Newcastle United have **`won 0 games, lost 6 games and 3 draw`**.*"
   ]
  },
  {
   "cell_type": "markdown",
   "metadata": {},
   "source": [
    "*At the end of the EPL first leg , Newcastle United **`won 1 games, lost 10 games and draw 8 games`** that give us **`11 pts over 57`**. At this condition, Newcastle can be relegated .*"
   ]
  },
  {
   "cell_type": "code",
   "execution_count": 83,
   "metadata": {},
   "outputs": [
    {
     "data": {
      "image/png": "[encoded data removed]",
      "text/plain": [
       "<Figure size 432x288 with 1 Axes>"
      ]
     },
     "metadata": {
      "needs_background": "light"
     },
     "output_type": "display_data"
    }
   ],
   "source": [
    "home_1stleg.GD.plot(color='black',label='Home GD');\n",
    "away_1stleg.GD.plot(label='Away GD');\n",
    "plt.legend();\n",
    "plt.ylabel('Goal difference');\n",
    "plt.title('Newcastle United Goal difference first leg');"
   ]
  },
  {
   "cell_type": "markdown",
   "metadata": {},
   "source": [
    "*This chart shows that Newcastle often conceded goal that mean the defense cleary rubbish*. *We can also say that Newcastle United have a problem with the attack.*"
   ]
  },
  {
   "cell_type": "code",
   "execution_count": 84,
   "metadata": {},
   "outputs": [
    {
     "name": "stderr",
     "output_type": "stream",
     "text": [
      "C:\\Users\\HEWLET~1\\AppData\\Local\\Temp/ipykernel_5884/2336209792.py:1: FutureWarning:\n",
      "\n",
      "Dropping of nuisance columns in DataFrame reductions (with 'numeric_only=None') is deprecated; in a future version this will raise TypeError.  Select only valid columns before calling the reduction.\n",
      "\n"
     ]
    },
    {
     "data": {
      "text/plain": [
       "Scored      1.3\n",
       "Conceded    2.2\n",
       "GD         -0.9\n",
       "dtype: float64"
      ]
     },
     "execution_count": 84,
     "metadata": {},
     "output_type": "execute_result"
    }
   ],
   "source": [
    "home_1stleg.mean()"
   ]
  },
  {
   "cell_type": "markdown",
   "metadata": {},
   "source": [
    "clearly Newcastle have some problem with the defense."
   ]
  },
  {
   "cell_type": "code",
   "execution_count": 85,
   "metadata": {},
   "outputs": [
    {
     "name": "stderr",
     "output_type": "stream",
     "text": [
      "C:\\Users\\HEWLET~1\\AppData\\Local\\Temp/ipykernel_5884/1829367598.py:1: FutureWarning:\n",
      "\n",
      "Dropping of nuisance columns in DataFrame reductions (with 'numeric_only=None') is deprecated; in a future version this will raise TypeError.  Select only valid columns before calling the reduction.\n",
      "\n"
     ]
    },
    {
     "data": {
      "text/plain": [
       "Scored      0.666667\n",
       "Conceded    2.222222\n",
       "GD         -1.555556\n",
       "dtype: float64"
      ]
     },
     "execution_count": 85,
     "metadata": {},
     "output_type": "execute_result"
    }
   ],
   "source": [
    "away_1stleg.mean()"
   ]
  },
  {
   "cell_type": "markdown",
   "metadata": {},
   "source": [
    "at away have same problem with the defense and the attack now become problem too"
   ]
  },
  {
   "cell_type": "markdown",
   "metadata": {},
   "source": [
    "From home and away stats, Newcastle must improve their defense if they dont wanna go to championship (tier 2 English league)."
   ]
  },
  {
   "cell_type": "markdown",
   "metadata": {},
   "source": [
    "##### Second Leg"
   ]
  },
  {
   "cell_type": "markdown",
   "metadata": {},
   "source": [
    "In this second leg, there was a window transfer. Newcastle bought 4 players and loaned 1 player, they were Bruno Guimares,Chris Wood,Dan Burn,Kieran Trippier, Matt Target (Loan). 4 out 5 player were more defensive position, and one striker (Chris Wood). From first leg we know Newcastle defense was rubbish, in this transfer we can see that Newcastle want to improve their defense.   "
   ]
  },
  {
   "cell_type": "markdown",
   "metadata": {},
   "source": [
    "So lets take a look at second leg"
   ]
  },
  {
   "cell_type": "code",
   "execution_count": 86,
   "metadata": {},
   "outputs": [],
   "source": [
    "second_leg.sort_values('Date', inplace=True)\n",
    "second_leg.set_index('Date', inplace=True)"
   ]
  },
  {
   "cell_type": "code",
   "execution_count": 87,
   "metadata": {},
   "outputs": [
    {
     "name": "stderr",
     "output_type": "stream",
     "text": [
      "C:\\Users\\HEWLET~1\\AppData\\Local\\Temp/ipykernel_5884/3635457281.py:24: SettingWithCopyWarning:\n",
      "\n",
      "\n",
      "A value is trying to be set on a copy of a slice from a DataFrame.\n",
      "Try using .loc[row_indexer,col_indexer] = value instead\n",
      "\n",
      "See the caveats in the documentation: https://pandas.pydata.org/pandas-docs/stable/user_guide/indexing.html#returning-a-view-versus-a-copy\n",
      "\n",
      "C:\\Users\\HEWLET~1\\AppData\\Local\\Temp/ipykernel_5884/3635457281.py:25: SettingWithCopyWarning:\n",
      "\n",
      "\n",
      "A value is trying to be set on a copy of a slice from a DataFrame.\n",
      "Try using .loc[row_indexer,col_indexer] = value instead\n",
      "\n",
      "See the caveats in the documentation: https://pandas.pydata.org/pandas-docs/stable/user_guide/indexing.html#returning-a-view-versus-a-copy\n",
      "\n",
      "C:\\Users\\HEWLET~1\\AppData\\Local\\Temp/ipykernel_5884/3635457281.py:26: SettingWithCopyWarning:\n",
      "\n",
      "\n",
      "A value is trying to be set on a copy of a slice from a DataFrame.\n",
      "Try using .loc[row_indexer,col_indexer] = value instead\n",
      "\n",
      "See the caveats in the documentation: https://pandas.pydata.org/pandas-docs/stable/user_guide/indexing.html#returning-a-view-versus-a-copy\n",
      "\n",
      "C:\\Users\\HEWLET~1\\AppData\\Local\\Temp/ipykernel_5884/3635457281.py:27: SettingWithCopyWarning:\n",
      "\n",
      "\n",
      "A value is trying to be set on a copy of a slice from a DataFrame.\n",
      "Try using .loc[row_indexer,col_indexer] = value instead\n",
      "\n",
      "See the caveats in the documentation: https://pandas.pydata.org/pandas-docs/stable/user_guide/indexing.html#returning-a-view-versus-a-copy\n",
      "\n",
      "C:\\Users\\HEWLET~1\\AppData\\Local\\Temp/ipykernel_5884/3635457281.py:55: SettingWithCopyWarning:\n",
      "\n",
      "\n",
      "A value is trying to be set on a copy of a slice from a DataFrame.\n",
      "Try using .loc[row_indexer,col_indexer] = value instead\n",
      "\n",
      "See the caveats in the documentation: https://pandas.pydata.org/pandas-docs/stable/user_guide/indexing.html#returning-a-view-versus-a-copy\n",
      "\n",
      "C:\\Users\\HEWLET~1\\AppData\\Local\\Temp/ipykernel_5884/3635457281.py:56: SettingWithCopyWarning:\n",
      "\n",
      "\n",
      "A value is trying to be set on a copy of a slice from a DataFrame.\n",
      "Try using .loc[row_indexer,col_indexer] = value instead\n",
      "\n",
      "See the caveats in the documentation: https://pandas.pydata.org/pandas-docs/stable/user_guide/indexing.html#returning-a-view-versus-a-copy\n",
      "\n",
      "C:\\Users\\HEWLET~1\\AppData\\Local\\Temp/ipykernel_5884/3635457281.py:57: SettingWithCopyWarning:\n",
      "\n",
      "\n",
      "A value is trying to be set on a copy of a slice from a DataFrame.\n",
      "Try using .loc[row_indexer,col_indexer] = value instead\n",
      "\n",
      "See the caveats in the documentation: https://pandas.pydata.org/pandas-docs/stable/user_guide/indexing.html#returning-a-view-versus-a-copy\n",
      "\n",
      "C:\\Users\\HEWLET~1\\AppData\\Local\\Temp/ipykernel_5884/3635457281.py:58: SettingWithCopyWarning:\n",
      "\n",
      "\n",
      "A value is trying to be set on a copy of a slice from a DataFrame.\n",
      "Try using .loc[row_indexer,col_indexer] = value instead\n",
      "\n",
      "See the caveats in the documentation: https://pandas.pydata.org/pandas-docs/stable/user_guide/indexing.html#returning-a-view-versus-a-copy\n",
      "\n"
     ]
    },
    {
     "data": {
      "image/png": "[encoded data removed]",
      "text/plain": [
       "<Figure size 1080x360 with 2 Axes>"
      ]
     },
     "metadata": {
      "needs_background": "light"
     },
     "output_type": "display_data"
    }
   ],
   "source": [
    "home_2ndleg = wdl_home(second_leg)\n",
    "away_2ndleg = wdl_away(second_leg)\n",
    "fig1 = plt.figure(figsize=(15, 5))\n",
    "fig1.subplots_adjust(wspace=0.3)\n",
    "axis1 = fig1.add_subplot(1,2,1)\n",
    "axis2 = fig1.add_subplot(1,2,2)\n",
    "home_2ndleg.WDL.value_counts().plot.bar(edgecolor='black', linewidth=1.2, label='Newcastle at home',\n",
    "                                        color='black', ax=axis1);\n",
    "axis1.set_ylabel('counts')\n",
    "axis1.set_title('WDL home')\n",
    "axis1.legend();\n",
    "away_2ndleg.WDL.value_counts().plot.bar(edgecolor='black', linewidth=1.2, label='Newcastle at away',\n",
    "                                        color='blue', ax=axis2);\n",
    "axis2.set_title('WDL away')\n",
    "axis2.set_ylabel('counts')\n",
    "axis2.legend();"
   ]
  },
  {
   "cell_type": "markdown",
   "metadata": {},
   "source": [
    "- *At St James Park, Newcastle United have **`won 7 games, lost 1 games and draw 1 game`**.*\n",
    "- *At away, Newcastle United have **`won 5 games, lost 4 games and 1 draw`**.*"
   ]
  },
  {
   "cell_type": "code",
   "execution_count": 88,
   "metadata": {},
   "outputs": [
    {
     "data": {
      "image/png": "[encoded data removed]",
      "text/plain": [
       "<Figure size 432x288 with 1 Axes>"
      ]
     },
     "metadata": {
      "needs_background": "light"
     },
     "output_type": "display_data"
    }
   ],
   "source": [
    "home_2ndleg.GD.plot(color='black',label='Home GD');\n",
    "away_2ndleg.GD.plot(label='Away GD');\n",
    "plt.legend()\n",
    "plt.ylabel('Goal difference');\n",
    "plt.title('Newcastle United Goal difference second leg');"
   ]
  },
  {
   "cell_type": "markdown",
   "metadata": {},
   "source": [
    "We can see that Newcastle United defense was improving, the goal different was better than the first leg which mean the transfer was a success."
   ]
  },
  {
   "cell_type": "code",
   "execution_count": 89,
   "metadata": {},
   "outputs": [
    {
     "name": "stderr",
     "output_type": "stream",
     "text": [
      "C:\\Users\\HEWLET~1\\AppData\\Local\\Temp/ipykernel_5884/913035106.py:1: FutureWarning:\n",
      "\n",
      "Dropping of nuisance columns in DataFrame reductions (with 'numeric_only=None') is deprecated; in a future version this will raise TypeError.  Select only valid columns before calling the reduction.\n",
      "\n"
     ]
    },
    {
     "data": {
      "text/plain": [
       "Scored      1.444444\n",
       "Conceded    0.555556\n",
       "GD          0.888889\n",
       "dtype: float64"
      ]
     },
     "execution_count": 89,
     "metadata": {},
     "output_type": "execute_result"
    }
   ],
   "source": [
    "home_2ndleg.mean()"
   ]
  },
  {
   "cell_type": "markdown",
   "metadata": {},
   "source": [
    "Newcastle improving in their home, in the first leg they conceded avg 2.2 and now only 0.5"
   ]
  },
  {
   "cell_type": "code",
   "execution_count": 90,
   "metadata": {},
   "outputs": [
    {
     "name": "stderr",
     "output_type": "stream",
     "text": [
      "C:\\Users\\HEWLET~1\\AppData\\Local\\Temp/ipykernel_5884/3487744128.py:1: FutureWarning:\n",
      "\n",
      "Dropping of nuisance columns in DataFrame reductions (with 'numeric_only=None') is deprecated; in a future version this will raise TypeError.  Select only valid columns before calling the reduction.\n",
      "\n"
     ]
    },
    {
     "data": {
      "text/plain": [
       "Scored      1.2\n",
       "Conceded    1.5\n",
       "GD         -0.3\n",
       "dtype: float64"
      ]
     },
     "execution_count": 90,
     "metadata": {},
     "output_type": "execute_result"
    }
   ],
   "source": [
    "away_2ndleg.mean()"
   ]
  },
  {
   "cell_type": "markdown",
   "metadata": {},
   "source": [
    "At Away the defense slightly improve, but we can appreciate they scored more in away than the first leg"
   ]
  },
  {
   "cell_type": "code",
   "execution_count": 91,
   "metadata": {},
   "outputs": [],
   "source": [
    "def homeResult(row):\n",
    "    H, A = row.split(':')\n",
    "    \n",
    "    if int(H) > int(A):\n",
    "        return 'W'\n",
    "    elif int(H) < int(A):\n",
    "        return 'L'\n",
    "    else:\n",
    "        return 'D'\n",
    "    \n",
    "def awayResult(row):\n",
    "    H, A = row.split(':')\n",
    "    \n",
    "    if int(H) > int(A):\n",
    "        return 'L'\n",
    "    elif int(H) < int(A):\n",
    "        return 'W'\n",
    "    else:\n",
    "        return 'D'\n",
    "\n",
    "def gdhome(row):\n",
    "    H, A = row.split(':')\n",
    "    return int(H) - int(A)\n",
    "\n",
    "def gdaway(row):\n",
    "    H, A = row.split(':')\n",
    "    return int(A) - int(H)"
   ]
  },
  {
   "cell_type": "markdown",
   "metadata": {},
   "source": [
    "## Steve Bruce and Eddie Howe"
   ]
  },
  {
   "cell_type": "markdown",
   "metadata": {},
   "source": [
    "In October 2021, the club was bought for £300 million by a consortium led by the Saudi Arabian government's sovereign wealth fund. With the team close to the bottom of the Premier League, Bruce was widely expected to be dismissed from his job by the new owners, but remained in charge .Newcastle lost that match 3–2 to Tottenham Hotspur at St James' Park on 17 October 2021, and some Newcastle supporters called for Bruce to be removed from his post during and after the game.Bruce left Newcastle by mutual consent three days later on 20 October 2021.\n",
    "\n",
    "After that caretaker manager took the position until Howe was appointed to replace Steve Bruce as the manager of Premier League club Newcastle United on 8 November 2021, signing a contract until the summer of 2024.\n"
   ]
  },
  {
   "cell_type": "markdown",
   "metadata": {},
   "source": [
    "So we lets take a look the match between them"
   ]
  },
  {
   "cell_type": "code",
   "execution_count": 92,
   "metadata": {},
   "outputs": [],
   "source": [
    "steve_era = newcastle_home[newcastle_home.Date < '2021-11-08'].append(newcastle_away[newcastle_away.Date < '2021-11-08']) \n",
    "howe_era = newcastle_home[newcastle_home.Date > '2021-11-08'].append(newcastle_away[newcastle_away.Date > '2021-11-08']) "
   ]
  },
  {
   "cell_type": "code",
   "execution_count": 93,
   "metadata": {},
   "outputs": [],
   "source": [
    "steve_era.sort_values('Date', inplace=True)\n",
    "steve_era.set_index('Date', inplace=True)"
   ]
  },
  {
   "cell_type": "code",
   "execution_count": 94,
   "metadata": {},
   "outputs": [
    {
     "name": "stderr",
     "output_type": "stream",
     "text": [
      "C:\\Users\\HEWLET~1\\AppData\\Local\\Temp/ipykernel_5884/3635457281.py:24: SettingWithCopyWarning:\n",
      "\n",
      "\n",
      "A value is trying to be set on a copy of a slice from a DataFrame.\n",
      "Try using .loc[row_indexer,col_indexer] = value instead\n",
      "\n",
      "See the caveats in the documentation: https://pandas.pydata.org/pandas-docs/stable/user_guide/indexing.html#returning-a-view-versus-a-copy\n",
      "\n",
      "C:\\Users\\HEWLET~1\\AppData\\Local\\Temp/ipykernel_5884/3635457281.py:25: SettingWithCopyWarning:\n",
      "\n",
      "\n",
      "A value is trying to be set on a copy of a slice from a DataFrame.\n",
      "Try using .loc[row_indexer,col_indexer] = value instead\n",
      "\n",
      "See the caveats in the documentation: https://pandas.pydata.org/pandas-docs/stable/user_guide/indexing.html#returning-a-view-versus-a-copy\n",
      "\n",
      "C:\\Users\\HEWLET~1\\AppData\\Local\\Temp/ipykernel_5884/3635457281.py:26: SettingWithCopyWarning:\n",
      "\n",
      "\n",
      "A value is trying to be set on a copy of a slice from a DataFrame.\n",
      "Try using .loc[row_indexer,col_indexer] = value instead\n",
      "\n",
      "See the caveats in the documentation: https://pandas.pydata.org/pandas-docs/stable/user_guide/indexing.html#returning-a-view-versus-a-copy\n",
      "\n",
      "C:\\Users\\HEWLET~1\\AppData\\Local\\Temp/ipykernel_5884/3635457281.py:27: SettingWithCopyWarning:\n",
      "\n",
      "\n",
      "A value is trying to be set on a copy of a slice from a DataFrame.\n",
      "Try using .loc[row_indexer,col_indexer] = value instead\n",
      "\n",
      "See the caveats in the documentation: https://pandas.pydata.org/pandas-docs/stable/user_guide/indexing.html#returning-a-view-versus-a-copy\n",
      "\n",
      "C:\\Users\\HEWLET~1\\AppData\\Local\\Temp/ipykernel_5884/3635457281.py:55: SettingWithCopyWarning:\n",
      "\n",
      "\n",
      "A value is trying to be set on a copy of a slice from a DataFrame.\n",
      "Try using .loc[row_indexer,col_indexer] = value instead\n",
      "\n",
      "See the caveats in the documentation: https://pandas.pydata.org/pandas-docs/stable/user_guide/indexing.html#returning-a-view-versus-a-copy\n",
      "\n",
      "C:\\Users\\HEWLET~1\\AppData\\Local\\Temp/ipykernel_5884/3635457281.py:56: SettingWithCopyWarning:\n",
      "\n",
      "\n",
      "A value is trying to be set on a copy of a slice from a DataFrame.\n",
      "Try using .loc[row_indexer,col_indexer] = value instead\n",
      "\n",
      "See the caveats in the documentation: https://pandas.pydata.org/pandas-docs/stable/user_guide/indexing.html#returning-a-view-versus-a-copy\n",
      "\n",
      "C:\\Users\\HEWLET~1\\AppData\\Local\\Temp/ipykernel_5884/3635457281.py:57: SettingWithCopyWarning:\n",
      "\n",
      "\n",
      "A value is trying to be set on a copy of a slice from a DataFrame.\n",
      "Try using .loc[row_indexer,col_indexer] = value instead\n",
      "\n",
      "See the caveats in the documentation: https://pandas.pydata.org/pandas-docs/stable/user_guide/indexing.html#returning-a-view-versus-a-copy\n",
      "\n",
      "C:\\Users\\HEWLET~1\\AppData\\Local\\Temp/ipykernel_5884/3635457281.py:58: SettingWithCopyWarning:\n",
      "\n",
      "\n",
      "A value is trying to be set on a copy of a slice from a DataFrame.\n",
      "Try using .loc[row_indexer,col_indexer] = value instead\n",
      "\n",
      "See the caveats in the documentation: https://pandas.pydata.org/pandas-docs/stable/user_guide/indexing.html#returning-a-view-versus-a-copy\n",
      "\n"
     ]
    },
    {
     "data": {
      "image/png": "[encoded data removed]",
      "text/plain": [
       "<Figure size 1080x360 with 2 Axes>"
      ]
     },
     "metadata": {
      "needs_background": "light"
     },
     "output_type": "display_data"
    }
   ],
   "source": [
    "home_steve = wdl_home(steve_era)\n",
    "away_steve = wdl_away(steve_era)\n",
    "fig1 = plt.figure(figsize=(15, 5))\n",
    "fig1.subplots_adjust(wspace=0.3)\n",
    "axis1 = fig1.add_subplot(1,2,1)\n",
    "axis2 = fig1.add_subplot(1,2,2)\n",
    "home_steve.WDL.value_counts().plot.bar(edgecolor='black', linewidth=1.2, label='Newcastle at home',\n",
    "                                        color='black', ax=axis1);\n",
    "axis1.set_ylabel('counts')\n",
    "axis1.set_title('WDL home')\n",
    "axis1.legend();\n",
    "away_steve.WDL.value_counts().plot.bar(edgecolor='black', linewidth=1.2, label='Newcastle at away',\n",
    "                                        color='blue', ax=axis2);\n",
    "axis2.set_title('WDL away')\n",
    "axis2.set_ylabel('counts')\n",
    "axis2.legend();"
   ]
  },
  {
   "cell_type": "markdown",
   "metadata": {},
   "source": [
    "In Steve Era (season 2021/2022), Newcastle never win and only get 5 points over 33 points. No wonder Newcastle fans want him to removed from his position."
   ]
  },
  {
   "cell_type": "code",
   "execution_count": 95,
   "metadata": {},
   "outputs": [],
   "source": [
    "howe_era.sort_values('Date', inplace=True)\n",
    "howe_era.set_index('Date', inplace=True)"
   ]
  },
  {
   "cell_type": "code",
   "execution_count": 96,
   "metadata": {},
   "outputs": [
    {
     "name": "stderr",
     "output_type": "stream",
     "text": [
      "C:\\Users\\HEWLET~1\\AppData\\Local\\Temp/ipykernel_5884/3635457281.py:24: SettingWithCopyWarning:\n",
      "\n",
      "\n",
      "A value is trying to be set on a copy of a slice from a DataFrame.\n",
      "Try using .loc[row_indexer,col_indexer] = value instead\n",
      "\n",
      "See the caveats in the documentation: https://pandas.pydata.org/pandas-docs/stable/user_guide/indexing.html#returning-a-view-versus-a-copy\n",
      "\n",
      "C:\\Users\\HEWLET~1\\AppData\\Local\\Temp/ipykernel_5884/3635457281.py:25: SettingWithCopyWarning:\n",
      "\n",
      "\n",
      "A value is trying to be set on a copy of a slice from a DataFrame.\n",
      "Try using .loc[row_indexer,col_indexer] = value instead\n",
      "\n",
      "See the caveats in the documentation: https://pandas.pydata.org/pandas-docs/stable/user_guide/indexing.html#returning-a-view-versus-a-copy\n",
      "\n",
      "C:\\Users\\HEWLET~1\\AppData\\Local\\Temp/ipykernel_5884/3635457281.py:26: SettingWithCopyWarning:\n",
      "\n",
      "\n",
      "A value is trying to be set on a copy of a slice from a DataFrame.\n",
      "Try using .loc[row_indexer,col_indexer] = value instead\n",
      "\n",
      "See the caveats in the documentation: https://pandas.pydata.org/pandas-docs/stable/user_guide/indexing.html#returning-a-view-versus-a-copy\n",
      "\n",
      "C:\\Users\\HEWLET~1\\AppData\\Local\\Temp/ipykernel_5884/3635457281.py:27: SettingWithCopyWarning:\n",
      "\n",
      "\n",
      "A value is trying to be set on a copy of a slice from a DataFrame.\n",
      "Try using .loc[row_indexer,col_indexer] = value instead\n",
      "\n",
      "See the caveats in the documentation: https://pandas.pydata.org/pandas-docs/stable/user_guide/indexing.html#returning-a-view-versus-a-copy\n",
      "\n",
      "C:\\Users\\HEWLET~1\\AppData\\Local\\Temp/ipykernel_5884/3635457281.py:55: SettingWithCopyWarning:\n",
      "\n",
      "\n",
      "A value is trying to be set on a copy of a slice from a DataFrame.\n",
      "Try using .loc[row_indexer,col_indexer] = value instead\n",
      "\n",
      "See the caveats in the documentation: https://pandas.pydata.org/pandas-docs/stable/user_guide/indexing.html#returning-a-view-versus-a-copy\n",
      "\n",
      "C:\\Users\\HEWLET~1\\AppData\\Local\\Temp/ipykernel_5884/3635457281.py:56: SettingWithCopyWarning:\n",
      "\n",
      "\n",
      "A value is trying to be set on a copy of a slice from a DataFrame.\n",
      "Try using .loc[row_indexer,col_indexer] = value instead\n",
      "\n",
      "See the caveats in the documentation: https://pandas.pydata.org/pandas-docs/stable/user_guide/indexing.html#returning-a-view-versus-a-copy\n",
      "\n",
      "C:\\Users\\HEWLET~1\\AppData\\Local\\Temp/ipykernel_5884/3635457281.py:57: SettingWithCopyWarning:\n",
      "\n",
      "\n",
      "A value is trying to be set on a copy of a slice from a DataFrame.\n",
      "Try using .loc[row_indexer,col_indexer] = value instead\n",
      "\n",
      "See the caveats in the documentation: https://pandas.pydata.org/pandas-docs/stable/user_guide/indexing.html#returning-a-view-versus-a-copy\n",
      "\n",
      "C:\\Users\\HEWLET~1\\AppData\\Local\\Temp/ipykernel_5884/3635457281.py:58: SettingWithCopyWarning:\n",
      "\n",
      "\n",
      "A value is trying to be set on a copy of a slice from a DataFrame.\n",
      "Try using .loc[row_indexer,col_indexer] = value instead\n",
      "\n",
      "See the caveats in the documentation: https://pandas.pydata.org/pandas-docs/stable/user_guide/indexing.html#returning-a-view-versus-a-copy\n",
      "\n"
     ]
    },
    {
     "data": {
      "image/png": "[encoded data removed]",
      "text/plain": [
       "<Figure size 1080x360 with 2 Axes>"
      ]
     },
     "metadata": {
      "needs_background": "light"
     },
     "output_type": "display_data"
    }
   ],
   "source": [
    "home_howe = wdl_home(howe_era)\n",
    "away_howe = wdl_away(howe_era)\n",
    "fig1 = plt.figure(figsize=(15, 5))\n",
    "fig1.subplots_adjust(wspace=0.3)\n",
    "axis1 = fig1.add_subplot(1,2,1)\n",
    "axis2 = fig1.add_subplot(1,2,2)\n",
    "home_howe.WDL.value_counts().plot.bar(edgecolor='black', linewidth=1.2, label='Newcastle at home',\n",
    "                                        color='black', ax=axis1);\n",
    "axis1.set_ylabel('counts')\n",
    "axis1.set_title('WDL home')\n",
    "axis1.legend();\n",
    "away_howe.WDL.value_counts().plot.bar(edgecolor='black', linewidth=1.2, label='Newcastle at away',\n",
    "                                        color='blue', ax=axis2);\n",
    "axis2.set_title('WDL away')\n",
    "axis2.set_ylabel('counts')\n",
    "axis2.legend();"
   ]
  },
  {
   "cell_type": "markdown",
   "metadata": {},
   "source": [
    "Howe era better than Bruce era, Newcastle got 13 Wins and 44 points over 81. "
   ]
  },
  {
   "cell_type": "markdown",
   "metadata": {},
   "source": [
    "We want to look the Newcastle position when Steve Era and Howe Era"
   ]
  },
  {
   "cell_type": "code",
   "execution_count": 97,
   "metadata": {},
   "outputs": [],
   "source": [
    "week_match = allresult.copy()"
   ]
  },
  {
   "cell_type": "code",
   "execution_count": 98,
   "metadata": {},
   "outputs": [],
   "source": [
    "table1=pd.read_csv('points_table.csv')"
   ]
  },
  {
   "cell_type": "markdown",
   "metadata": {},
   "source": [
    "First we want to calculate the points for all teams each fixtures."
   ]
  },
  {
   "cell_type": "code",
   "execution_count": 99,
   "metadata": {},
   "outputs": [],
   "source": [
    "week_match['IsHomeTeam'] = week_match['Result'].apply(homeResult)\n",
    "week_match['IsAwayTeam'] = week_match['Result'].apply(awayResult)"
   ]
  },
  {
   "cell_type": "code",
   "execution_count": 100,
   "metadata": {},
   "outputs": [],
   "source": [
    "week_match['GDHomeTeam'] = week_match['Result'].apply(gdhome)\n",
    "week_match['GDAwayTeam'] = week_match['Result'].apply(gdaway)"
   ]
  },
  {
   "cell_type": "code",
   "execution_count": 101,
   "metadata": {},
   "outputs": [
    {
     "data": {
      "text/html": [
       "<div>\n",
       "<style scoped>\n",
       "    .dataframe tbody tr th:only-of-type {\n",
       "        vertical-align: middle;\n",
       "    }\n",
       "\n",
       "    .dataframe tbody tr th {\n",
       "        vertical-align: top;\n",
       "    }\n",
       "\n",
       "    .dataframe thead th {\n",
       "        text-align: right;\n",
       "    }\n",
       "</style>\n",
       "<table border=\"1\" class=\"dataframe\">\n",
       "  <thead>\n",
       "    <tr style=\"text-align: right;\">\n",
       "      <th></th>\n",
       "      <th>Date</th>\n",
       "      <th>HomeTeam</th>\n",
       "      <th>Result</th>\n",
       "      <th>AwayTeam</th>\n",
       "      <th>IsHomeTeam</th>\n",
       "      <th>IsAwayTeam</th>\n",
       "      <th>GDHomeTeam</th>\n",
       "      <th>GDAwayTeam</th>\n",
       "    </tr>\n",
       "  </thead>\n",
       "  <tbody>\n",
       "    <tr>\n",
       "      <th>0</th>\n",
       "      <td>2021-08-13</td>\n",
       "      <td>Brentford</td>\n",
       "      <td>2:0</td>\n",
       "      <td>Arsenal</td>\n",
       "      <td>W</td>\n",
       "      <td>L</td>\n",
       "      <td>2</td>\n",
       "      <td>-2</td>\n",
       "    </tr>\n",
       "    <tr>\n",
       "      <th>1</th>\n",
       "      <td>2021-08-14</td>\n",
       "      <td>Burnley</td>\n",
       "      <td>1:2</td>\n",
       "      <td>Brighton and Hove Albion</td>\n",
       "      <td>L</td>\n",
       "      <td>W</td>\n",
       "      <td>-1</td>\n",
       "      <td>1</td>\n",
       "    </tr>\n",
       "    <tr>\n",
       "      <th>2</th>\n",
       "      <td>2021-08-14</td>\n",
       "      <td>Chelsea</td>\n",
       "      <td>3:0</td>\n",
       "      <td>Crystal Palace</td>\n",
       "      <td>W</td>\n",
       "      <td>L</td>\n",
       "      <td>3</td>\n",
       "      <td>-3</td>\n",
       "    </tr>\n",
       "    <tr>\n",
       "      <th>3</th>\n",
       "      <td>2021-08-14</td>\n",
       "      <td>Everton</td>\n",
       "      <td>3:1</td>\n",
       "      <td>Southampton</td>\n",
       "      <td>W</td>\n",
       "      <td>L</td>\n",
       "      <td>2</td>\n",
       "      <td>-2</td>\n",
       "    </tr>\n",
       "    <tr>\n",
       "      <th>4</th>\n",
       "      <td>2021-08-14</td>\n",
       "      <td>Leicester City</td>\n",
       "      <td>1:0</td>\n",
       "      <td>Wolverhampton Wanderers</td>\n",
       "      <td>W</td>\n",
       "      <td>L</td>\n",
       "      <td>1</td>\n",
       "      <td>-1</td>\n",
       "    </tr>\n",
       "    <tr>\n",
       "      <th>...</th>\n",
       "      <td>...</td>\n",
       "      <td>...</td>\n",
       "      <td>...</td>\n",
       "      <td>...</td>\n",
       "      <td>...</td>\n",
       "      <td>...</td>\n",
       "      <td>...</td>\n",
       "      <td>...</td>\n",
       "    </tr>\n",
       "    <tr>\n",
       "      <th>375</th>\n",
       "      <td>2022-05-22</td>\n",
       "      <td>Crystal Palace</td>\n",
       "      <td>1:0</td>\n",
       "      <td>Manchester United</td>\n",
       "      <td>W</td>\n",
       "      <td>L</td>\n",
       "      <td>1</td>\n",
       "      <td>-1</td>\n",
       "    </tr>\n",
       "    <tr>\n",
       "      <th>376</th>\n",
       "      <td>2022-05-22</td>\n",
       "      <td>Leicester City</td>\n",
       "      <td>4:1</td>\n",
       "      <td>Southampton</td>\n",
       "      <td>W</td>\n",
       "      <td>L</td>\n",
       "      <td>3</td>\n",
       "      <td>-3</td>\n",
       "    </tr>\n",
       "    <tr>\n",
       "      <th>377</th>\n",
       "      <td>2022-05-22</td>\n",
       "      <td>Liverpool</td>\n",
       "      <td>3:1</td>\n",
       "      <td>Wolverhampton Wanderers</td>\n",
       "      <td>W</td>\n",
       "      <td>L</td>\n",
       "      <td>2</td>\n",
       "      <td>-2</td>\n",
       "    </tr>\n",
       "    <tr>\n",
       "      <th>378</th>\n",
       "      <td>2022-05-22</td>\n",
       "      <td>Manchester City</td>\n",
       "      <td>3:2</td>\n",
       "      <td>Aston Villa</td>\n",
       "      <td>W</td>\n",
       "      <td>L</td>\n",
       "      <td>1</td>\n",
       "      <td>-1</td>\n",
       "    </tr>\n",
       "    <tr>\n",
       "      <th>379</th>\n",
       "      <td>2022-05-22</td>\n",
       "      <td>Norwich City</td>\n",
       "      <td>0:5</td>\n",
       "      <td>Tottenham Hotspur</td>\n",
       "      <td>L</td>\n",
       "      <td>W</td>\n",
       "      <td>-5</td>\n",
       "      <td>5</td>\n",
       "    </tr>\n",
       "  </tbody>\n",
       "</table>\n",
       "<p>380 rows × 8 columns</p>\n",
       "</div>"
      ],
      "text/plain": [
       "          Date         HomeTeam Result                  AwayTeam IsHomeTeam  \\\n",
       "0   2021-08-13        Brentford    2:0                   Arsenal          W   \n",
       "1   2021-08-14          Burnley    1:2  Brighton and Hove Albion          L   \n",
       "2   2021-08-14          Chelsea    3:0            Crystal Palace          W   \n",
       "3   2021-08-14          Everton    3:1               Southampton          W   \n",
       "4   2021-08-14   Leicester City    1:0   Wolverhampton Wanderers          W   \n",
       "..         ...              ...    ...                       ...        ...   \n",
       "375 2022-05-22   Crystal Palace    1:0         Manchester United          W   \n",
       "376 2022-05-22   Leicester City    4:1               Southampton          W   \n",
       "377 2022-05-22        Liverpool    3:1   Wolverhampton Wanderers          W   \n",
       "378 2022-05-22  Manchester City    3:2               Aston Villa          W   \n",
       "379 2022-05-22     Norwich City    0:5         Tottenham Hotspur          L   \n",
       "\n",
       "    IsAwayTeam  GDHomeTeam  GDAwayTeam  \n",
       "0            L           2          -2  \n",
       "1            W          -1           1  \n",
       "2            L           3          -3  \n",
       "3            L           2          -2  \n",
       "4            L           1          -1  \n",
       "..         ...         ...         ...  \n",
       "375          L           1          -1  \n",
       "376          L           3          -3  \n",
       "377          L           2          -2  \n",
       "378          L           1          -1  \n",
       "379          W          -5           5  \n",
       "\n",
       "[380 rows x 8 columns]"
      ]
     },
     "execution_count": 101,
     "metadata": {},
     "output_type": "execute_result"
    }
   ],
   "source": [
    "week_match"
   ]
  },
  {
   "cell_type": "code",
   "execution_count": 102,
   "metadata": {},
   "outputs": [],
   "source": [
    "teams = table1['Team'].tolist()\n",
    "club = {}\n",
    "for t in teams:\n",
    "    \n",
    "    game_week = {}\n",
    "    game_week[0] = 0\n",
    "    data_t = week_match[week_match.HomeTeam == t].append(week_match[week_match.AwayTeam == t])\n",
    "    data_t.sort_values('Date', inplace=True)\n",
    "    weeks = data_t.Date.tolist()\n",
    "    \n",
    "    for i, w in enumerate(weeks):\n",
    "    \n",
    "    \n",
    "        data_week = data_t[data_t.Date == w]\n",
    "        \n",
    "        i = i+1\n",
    "        #print(data_week)\n",
    "        \n",
    "        if t in data_week.HomeTeam.tolist():\n",
    "            \n",
    "            if data_week.IsHomeTeam.values[0] == 'W':\n",
    "                game_week[i] = game_week[i-1] + 3\n",
    "                \n",
    "            elif data_week.IsHomeTeam.values[0] == 'L':\n",
    "                game_week[i] = game_week[i-1]\n",
    "            else:\n",
    "                game_week[i] = game_week[i-1] + 1\n",
    "        \n",
    "        if t in data_week.AwayTeam.tolist():\n",
    "            if data_week.IsAwayTeam.values[0] == 'W':\n",
    "                game_week[i] = game_week[i-1] + 3\n",
    "            elif data_week.IsAwayTeam.values[0] == 'L':\n",
    "                game_week[i] = game_week[i-1]\n",
    "            else:\n",
    "                game_week[i] = game_week[i-1] + 1\n",
    "                \n",
    "       \n",
    "        \n",
    "    club[t] = {f'Week {w+1}': game_week[w+1] for w in range(len(weeks))}"
   ]
  },
  {
   "cell_type": "markdown",
   "metadata": {},
   "source": [
    "then the we change it become dataframe so we can graph it"
   ]
  },
  {
   "cell_type": "code",
   "execution_count": 103,
   "metadata": {},
   "outputs": [],
   "source": [
    "club = pd.DataFrame(club)"
   ]
  },
  {
   "cell_type": "code",
   "execution_count": 104,
   "metadata": {},
   "outputs": [
    {
     "data": {
      "application/vnd.plotly.v1+json": {
       "config": {
        "plotlyServerURL": "https://plot.ly"
       },
       "data": [
        {
         "hovertemplate": "variable=Manchester City<br>index=%{x}<br>value=%{y}<extra></extra>",
         "legendgroup": "Manchester City",
         "line": {
          "color": "#636efa",
          "dash": "solid"
         },
         "mode": "lines",
         "name": "Manchester City",
         "orientation": "v",
         "showlegend": true,
         "type": "scatter",
         "x": [
          "Week 1",
          "Week 2",
          "Week 3",
          "Week 4",
          "Week 5",
          "Week 6",
          "Week 7",
          "Week 8",
          "Week 9",
          "Week 10",
          "Week 11",
          "Week 12",
          "Week 13",
          "Week 14",
          "Week 15",
          "Week 16",
          "Week 17",
          "Week 18",
          "Week 19",
          "Week 20",
          "Week 21",
          "Week 22",
          "Week 23",
          "Week 24",
          "Week 25",
          "Week 26",
          "Week 27",
          "Week 28",
          "Week 29",
          "Week 30",
          "Week 31",
          "Week 32",
          "Week 33",
          "Week 34",
          "Week 35",
          "Week 36",
          "Week 37",
          "Week 38"
         ],
         "xaxis": "x",
         "y": [
          0,
          3,
          6,
          9,
          10,
          13,
          14,
          17,
          20,
          20,
          23,
          26,
          29,
          32,
          35,
          38,
          41,
          44,
          47,
          50,
          53,
          56,
          57,
          60,
          63,
          63,
          66,
          69,
          70,
          73,
          74,
          77,
          80,
          83,
          86,
          89,
          90,
          93
         ],
         "yaxis": "y"
        },
        {
         "hovertemplate": "variable=Liverpool<br>index=%{x}<br>value=%{y}<extra></extra>",
         "legendgroup": "Liverpool",
         "line": {
          "color": "#EF553B",
          "dash": "solid"
         },
         "mode": "lines",
         "name": "Liverpool",
         "orientation": "v",
         "showlegend": true,
         "type": "scatter",
         "x": [
          "Week 1",
          "Week 2",
          "Week 3",
          "Week 4",
          "Week 5",
          "Week 6",
          "Week 7",
          "Week 8",
          "Week 9",
          "Week 10",
          "Week 11",
          "Week 12",
          "Week 13",
          "Week 14",
          "Week 15",
          "Week 16",
          "Week 17",
          "Week 18",
          "Week 19",
          "Week 20",
          "Week 21",
          "Week 22",
          "Week 23",
          "Week 24",
          "Week 25",
          "Week 26",
          "Week 27",
          "Week 28",
          "Week 29",
          "Week 30",
          "Week 31",
          "Week 32",
          "Week 33",
          "Week 34",
          "Week 35",
          "Week 36",
          "Week 37",
          "Week 38"
         ],
         "xaxis": "x",
         "y": [
          3,
          6,
          7,
          10,
          13,
          14,
          15,
          18,
          21,
          22,
          22,
          25,
          28,
          31,
          34,
          37,
          40,
          41,
          41,
          42,
          45,
          48,
          51,
          54,
          57,
          60,
          63,
          66,
          69,
          72,
          73,
          76,
          79,
          82,
          83,
          86,
          89,
          92
         ],
         "yaxis": "y"
        },
        {
         "hovertemplate": "variable=Chelsea<br>index=%{x}<br>value=%{y}<extra></extra>",
         "legendgroup": "Chelsea",
         "line": {
          "color": "#00cc96",
          "dash": "solid"
         },
         "mode": "lines",
         "name": "Chelsea",
         "orientation": "v",
         "showlegend": true,
         "type": "scatter",
         "x": [
          "Week 1",
          "Week 2",
          "Week 3",
          "Week 4",
          "Week 5",
          "Week 6",
          "Week 7",
          "Week 8",
          "Week 9",
          "Week 10",
          "Week 11",
          "Week 12",
          "Week 13",
          "Week 14",
          "Week 15",
          "Week 16",
          "Week 17",
          "Week 18",
          "Week 19",
          "Week 20",
          "Week 21",
          "Week 22",
          "Week 23",
          "Week 24",
          "Week 25",
          "Week 26",
          "Week 27",
          "Week 28",
          "Week 29",
          "Week 30",
          "Week 31",
          "Week 32",
          "Week 33",
          "Week 34",
          "Week 35",
          "Week 36",
          "Week 37",
          "Week 38"
         ],
         "xaxis": "x",
         "y": [
          3,
          6,
          7,
          10,
          13,
          13,
          16,
          19,
          22,
          25,
          26,
          29,
          30,
          33,
          33,
          36,
          37,
          38,
          41,
          42,
          43,
          43,
          44,
          47,
          50,
          53,
          56,
          59,
          59,
          62,
          62,
          65,
          66,
          66,
          67,
          70,
          71,
          74
         ],
         "yaxis": "y"
        },
        {
         "hovertemplate": "variable=Tottenham Hotspur<br>index=%{x}<br>value=%{y}<extra></extra>",
         "legendgroup": "Tottenham Hotspur",
         "line": {
          "color": "#ab63fa",
          "dash": "solid"
         },
         "mode": "lines",
         "name": "Tottenham Hotspur",
         "orientation": "v",
         "showlegend": true,
         "type": "scatter",
         "x": [
          "Week 1",
          "Week 2",
          "Week 3",
          "Week 4",
          "Week 5",
          "Week 6",
          "Week 7",
          "Week 8",
          "Week 9",
          "Week 10",
          "Week 11",
          "Week 12",
          "Week 13",
          "Week 14",
          "Week 15",
          "Week 16",
          "Week 17",
          "Week 18",
          "Week 19",
          "Week 20",
          "Week 21",
          "Week 22",
          "Week 23",
          "Week 24",
          "Week 25",
          "Week 26",
          "Week 27",
          "Week 28",
          "Week 29",
          "Week 30",
          "Week 31",
          "Week 32",
          "Week 33",
          "Week 34",
          "Week 35",
          "Week 36",
          "Week 37",
          "Week 38"
         ],
         "xaxis": "x",
         "y": [
          3,
          6,
          9,
          9,
          9,
          9,
          12,
          15,
          15,
          15,
          16,
          19,
          22,
          25,
          26,
          29,
          30,
          33,
          36,
          36,
          36,
          36,
          39,
          39,
          42,
          45,
          45,
          48,
          51,
          54,
          57,
          57,
          58,
          61,
          62,
          65,
          68,
          71
         ],
         "yaxis": "y"
        },
        {
         "hovertemplate": "variable=Arsenal<br>index=%{x}<br>value=%{y}<extra></extra>",
         "legendgroup": "Arsenal",
         "line": {
          "color": "#FFA15A",
          "dash": "solid"
         },
         "mode": "lines",
         "name": "Arsenal",
         "orientation": "v",
         "showlegend": true,
         "type": "scatter",
         "x": [
          "Week 1",
          "Week 2",
          "Week 3",
          "Week 4",
          "Week 5",
          "Week 6",
          "Week 7",
          "Week 8",
          "Week 9",
          "Week 10",
          "Week 11",
          "Week 12",
          "Week 13",
          "Week 14",
          "Week 15",
          "Week 16",
          "Week 17",
          "Week 18",
          "Week 19",
          "Week 20",
          "Week 21",
          "Week 22",
          "Week 23",
          "Week 24",
          "Week 25",
          "Week 26",
          "Week 27",
          "Week 28",
          "Week 29",
          "Week 30",
          "Week 31",
          "Week 32",
          "Week 33",
          "Week 34",
          "Week 35",
          "Week 36",
          "Week 37",
          "Week 38"
         ],
         "xaxis": "x",
         "y": [
          0,
          0,
          0,
          3,
          6,
          9,
          10,
          11,
          14,
          17,
          20,
          20,
          23,
          23,
          23,
          26,
          29,
          32,
          35,
          35,
          36,
          39,
          42,
          45,
          48,
          51,
          51,
          54,
          54,
          54,
          54,
          57,
          60,
          63,
          66,
          66,
          66,
          69
         ],
         "yaxis": "y"
        },
        {
         "hovertemplate": "variable=Manchester United<br>index=%{x}<br>value=%{y}<extra></extra>",
         "legendgroup": "Manchester United",
         "line": {
          "color": "#19d3f3",
          "dash": "solid"
         },
         "mode": "lines",
         "name": "Manchester United",
         "orientation": "v",
         "showlegend": true,
         "type": "scatter",
         "x": [
          "Week 1",
          "Week 2",
          "Week 3",
          "Week 4",
          "Week 5",
          "Week 6",
          "Week 7",
          "Week 8",
          "Week 9",
          "Week 10",
          "Week 11",
          "Week 12",
          "Week 13",
          "Week 14",
          "Week 15",
          "Week 16",
          "Week 17",
          "Week 18",
          "Week 19",
          "Week 20",
          "Week 21",
          "Week 22",
          "Week 23",
          "Week 24",
          "Week 25",
          "Week 26",
          "Week 27",
          "Week 28",
          "Week 29",
          "Week 30",
          "Week 31",
          "Week 32",
          "Week 33",
          "Week 34",
          "Week 35",
          "Week 36",
          "Week 37",
          "Week 38"
         ],
         "xaxis": "x",
         "y": [
          3,
          4,
          7,
          10,
          13,
          13,
          14,
          14,
          14,
          17,
          17,
          17,
          18,
          21,
          24,
          27,
          28,
          31,
          31,
          32,
          35,
          38,
          39,
          40,
          43,
          46,
          47,
          47,
          50,
          51,
          51,
          54,
          54,
          54,
          55,
          58,
          58,
          58
         ],
         "yaxis": "y"
        },
        {
         "hovertemplate": "variable=West Ham United<br>index=%{x}<br>value=%{y}<extra></extra>",
         "legendgroup": "West Ham United",
         "line": {
          "color": "#FF6692",
          "dash": "solid"
         },
         "mode": "lines",
         "name": "West Ham United",
         "orientation": "v",
         "showlegend": true,
         "type": "scatter",
         "x": [
          "Week 1",
          "Week 2",
          "Week 3",
          "Week 4",
          "Week 5",
          "Week 6",
          "Week 7",
          "Week 8",
          "Week 9",
          "Week 10",
          "Week 11",
          "Week 12",
          "Week 13",
          "Week 14",
          "Week 15",
          "Week 16",
          "Week 17",
          "Week 18",
          "Week 19",
          "Week 20",
          "Week 21",
          "Week 22",
          "Week 23",
          "Week 24",
          "Week 25",
          "Week 26",
          "Week 27",
          "Week 28",
          "Week 29",
          "Week 30",
          "Week 31",
          "Week 32",
          "Week 33",
          "Week 34",
          "Week 35",
          "Week 36",
          "Week 37",
          "Week 38"
         ],
         "xaxis": "x",
         "y": [
          3,
          6,
          7,
          8,
          8,
          11,
          11,
          14,
          17,
          20,
          23,
          23,
          23,
          24,
          27,
          28,
          28,
          28,
          31,
          34,
          37,
          37,
          37,
          40,
          41,
          42,
          45,
          45,
          48,
          48,
          51,
          51,
          52,
          52,
          52,
          55,
          56,
          56
         ],
         "yaxis": "y"
        },
        {
         "hovertemplate": "variable=Leicester City<br>index=%{x}<br>value=%{y}<extra></extra>",
         "legendgroup": "Leicester City",
         "line": {
          "color": "#B6E880",
          "dash": "solid"
         },
         "mode": "lines",
         "name": "Leicester City",
         "orientation": "v",
         "showlegend": true,
         "type": "scatter",
         "x": [
          "Week 1",
          "Week 2",
          "Week 3",
          "Week 4",
          "Week 5",
          "Week 6",
          "Week 7",
          "Week 8",
          "Week 9",
          "Week 10",
          "Week 11",
          "Week 12",
          "Week 13",
          "Week 14",
          "Week 15",
          "Week 16",
          "Week 17",
          "Week 18",
          "Week 19",
          "Week 20",
          "Week 21",
          "Week 22",
          "Week 23",
          "Week 24",
          "Week 25",
          "Week 26",
          "Week 27",
          "Week 28",
          "Week 29",
          "Week 30",
          "Week 31",
          "Week 32",
          "Week 33",
          "Week 34",
          "Week 35",
          "Week 36",
          "Week 37",
          "Week 38"
         ],
         "xaxis": "x",
         "y": [
          3,
          3,
          6,
          6,
          6,
          7,
          8,
          11,
          14,
          14,
          15,
          15,
          18,
          19,
          19,
          22,
          22,
          25,
          25,
          26,
          26,
          27,
          27,
          30,
          33,
          33,
          36,
          37,
          40,
          40,
          41,
          42,
          42,
          42,
          45,
          48,
          49,
          52
         ],
         "yaxis": "y"
        },
        {
         "hovertemplate": "variable=Brighton and Hove Albion<br>index=%{x}<br>value=%{y}<extra></extra>",
         "legendgroup": "Brighton and Hove Albion",
         "line": {
          "color": "#FF97FF",
          "dash": "solid"
         },
         "mode": "lines",
         "name": "Brighton and Hove Albion",
         "orientation": "v",
         "showlegend": true,
         "type": "scatter",
         "x": [
          "Week 1",
          "Week 2",
          "Week 3",
          "Week 4",
          "Week 5",
          "Week 6",
          "Week 7",
          "Week 8",
          "Week 9",
          "Week 10",
          "Week 11",
          "Week 12",
          "Week 13",
          "Week 14",
          "Week 15",
          "Week 16",
          "Week 17",
          "Week 18",
          "Week 19",
          "Week 20",
          "Week 21",
          "Week 22",
          "Week 23",
          "Week 24",
          "Week 25",
          "Week 26",
          "Week 27",
          "Week 28",
          "Week 29",
          "Week 30",
          "Week 31",
          "Week 32",
          "Week 33",
          "Week 34",
          "Week 35",
          "Week 36",
          "Week 37",
          "Week 38"
         ],
         "xaxis": "x",
         "y": [
          3,
          6,
          6,
          9,
          12,
          13,
          14,
          15,
          15,
          16,
          17,
          17,
          18,
          19,
          20,
          20,
          23,
          24,
          27,
          28,
          29,
          30,
          33,
          33,
          33,
          33,
          33,
          33,
          33,
          34,
          37,
          40,
          40,
          41,
          44,
          47,
          48,
          51
         ],
         "yaxis": "y"
        },
        {
         "hovertemplate": "variable=Wolverhampton Wanderers<br>index=%{x}<br>value=%{y}<extra></extra>",
         "legendgroup": "Wolverhampton Wanderers",
         "line": {
          "color": "#FECB52",
          "dash": "solid"
         },
         "mode": "lines",
         "name": "Wolverhampton Wanderers",
         "orientation": "v",
         "showlegend": true,
         "type": "scatter",
         "x": [
          "Week 1",
          "Week 2",
          "Week 3",
          "Week 4",
          "Week 5",
          "Week 6",
          "Week 7",
          "Week 8",
          "Week 9",
          "Week 10",
          "Week 11",
          "Week 12",
          "Week 13",
          "Week 14",
          "Week 15",
          "Week 16",
          "Week 17",
          "Week 18",
          "Week 19",
          "Week 20",
          "Week 21",
          "Week 22",
          "Week 23",
          "Week 24",
          "Week 25",
          "Week 26",
          "Week 27",
          "Week 28",
          "Week 29",
          "Week 30",
          "Week 31",
          "Week 32",
          "Week 33",
          "Week 34",
          "Week 35",
          "Week 36",
          "Week 37",
          "Week 38"
         ],
         "xaxis": "x",
         "y": [
          0,
          0,
          0,
          3,
          3,
          6,
          9,
          12,
          13,
          16,
          16,
          19,
          20,
          21,
          21,
          21,
          24,
          25,
          28,
          31,
          34,
          34,
          37,
          40,
          40,
          40,
          40,
          43,
          46,
          46,
          49,
          49,
          49,
          49,
          50,
          50,
          51,
          51
         ],
         "yaxis": "y"
        },
        {
         "hovertemplate": "variable=Newcastle United<br>index=%{x}<br>value=%{y}<extra></extra>",
         "legendgroup": "Newcastle United",
         "line": {
          "color": "#636efa",
          "dash": "solid"
         },
         "mode": "lines",
         "name": "Newcastle United",
         "orientation": "v",
         "showlegend": true,
         "type": "scatter",
         "x": [
          "Week 1",
          "Week 2",
          "Week 3",
          "Week 4",
          "Week 5",
          "Week 6",
          "Week 7",
          "Week 8",
          "Week 9",
          "Week 10",
          "Week 11",
          "Week 12",
          "Week 13",
          "Week 14",
          "Week 15",
          "Week 16",
          "Week 17",
          "Week 18",
          "Week 19",
          "Week 20",
          "Week 21",
          "Week 22",
          "Week 23",
          "Week 24",
          "Week 25",
          "Week 26",
          "Week 27",
          "Week 28",
          "Week 29",
          "Week 30",
          "Week 31",
          "Week 32",
          "Week 33",
          "Week 34",
          "Week 35",
          "Week 36",
          "Week 37",
          "Week 38"
         ],
         "xaxis": "x",
         "y": [
          0,
          0,
          1,
          1,
          2,
          3,
          3,
          3,
          4,
          4,
          5,
          6,
          6,
          7,
          10,
          10,
          10,
          10,
          11,
          12,
          15,
          18,
          21,
          22,
          25,
          28,
          31,
          31,
          31,
          31,
          34,
          37,
          40,
          43,
          43,
          43,
          46,
          49
         ],
         "yaxis": "y"
        },
        {
         "hovertemplate": "variable=Crystal Palace<br>index=%{x}<br>value=%{y}<extra></extra>",
         "legendgroup": "Crystal Palace",
         "line": {
          "color": "#EF553B",
          "dash": "solid"
         },
         "mode": "lines",
         "name": "Crystal Palace",
         "orientation": "v",
         "showlegend": true,
         "type": "scatter",
         "x": [
          "Week 1",
          "Week 2",
          "Week 3",
          "Week 4",
          "Week 5",
          "Week 6",
          "Week 7",
          "Week 8",
          "Week 9",
          "Week 10",
          "Week 11",
          "Week 12",
          "Week 13",
          "Week 14",
          "Week 15",
          "Week 16",
          "Week 17",
          "Week 18",
          "Week 19",
          "Week 20",
          "Week 21",
          "Week 22",
          "Week 23",
          "Week 24",
          "Week 25",
          "Week 26",
          "Week 27",
          "Week 28",
          "Week 29",
          "Week 30",
          "Week 31",
          "Week 32",
          "Week 33",
          "Week 34",
          "Week 35",
          "Week 36",
          "Week 37",
          "Week 38"
         ],
         "xaxis": "x",
         "y": [
          0,
          1,
          2,
          5,
          5,
          6,
          7,
          8,
          9,
          12,
          15,
          16,
          16,
          16,
          16,
          19,
          20,
          20,
          23,
          23,
          24,
          24,
          25,
          26,
          26,
          29,
          30,
          33,
          34,
          37,
          37,
          37,
          38,
          41,
          44,
          45,
          45,
          48
         ],
         "yaxis": "y"
        },
        {
         "hovertemplate": "variable=Brentford<br>index=%{x}<br>value=%{y}<extra></extra>",
         "legendgroup": "Brentford",
         "line": {
          "color": "#00cc96",
          "dash": "solid"
         },
         "mode": "lines",
         "name": "Brentford",
         "orientation": "v",
         "showlegend": true,
         "type": "scatter",
         "x": [
          "Week 1",
          "Week 2",
          "Week 3",
          "Week 4",
          "Week 5",
          "Week 6",
          "Week 7",
          "Week 8",
          "Week 9",
          "Week 10",
          "Week 11",
          "Week 12",
          "Week 13",
          "Week 14",
          "Week 15",
          "Week 16",
          "Week 17",
          "Week 18",
          "Week 19",
          "Week 20",
          "Week 21",
          "Week 22",
          "Week 23",
          "Week 24",
          "Week 25",
          "Week 26",
          "Week 27",
          "Week 28",
          "Week 29",
          "Week 30",
          "Week 31",
          "Week 32",
          "Week 33",
          "Week 34",
          "Week 35",
          "Week 36",
          "Week 37",
          "Week 38"
         ],
         "xaxis": "x",
         "y": [
          3,
          4,
          5,
          5,
          8,
          9,
          12,
          12,
          12,
          12,
          12,
          13,
          16,
          16,
          17,
          20,
          20,
          20,
          23,
          23,
          23,
          23,
          23,
          23,
          24,
          24,
          24,
          27,
          30,
          30,
          33,
          36,
          39,
          40,
          40,
          43,
          46,
          46
         ],
         "yaxis": "y"
        },
        {
         "hovertemplate": "variable=Aston Villa<br>index=%{x}<br>value=%{y}<extra></extra>",
         "legendgroup": "Aston Villa",
         "line": {
          "color": "#ab63fa",
          "dash": "solid"
         },
         "mode": "lines",
         "name": "Aston Villa",
         "orientation": "v",
         "showlegend": true,
         "type": "scatter",
         "x": [
          "Week 1",
          "Week 2",
          "Week 3",
          "Week 4",
          "Week 5",
          "Week 6",
          "Week 7",
          "Week 8",
          "Week 9",
          "Week 10",
          "Week 11",
          "Week 12",
          "Week 13",
          "Week 14",
          "Week 15",
          "Week 16",
          "Week 17",
          "Week 18",
          "Week 19",
          "Week 20",
          "Week 21",
          "Week 22",
          "Week 23",
          "Week 24",
          "Week 25",
          "Week 26",
          "Week 27",
          "Week 28",
          "Week 29",
          "Week 30",
          "Week 31",
          "Week 32",
          "Week 33",
          "Week 34",
          "Week 35",
          "Week 36",
          "Week 37",
          "Week 38"
         ],
         "xaxis": "x",
         "y": [
          0,
          3,
          4,
          4,
          7,
          10,
          10,
          10,
          10,
          10,
          10,
          13,
          16,
          16,
          19,
          19,
          22,
          22,
          22,
          23,
          26,
          27,
          27,
          27,
          30,
          33,
          36,
          36,
          36,
          36,
          36,
          37,
          40,
          43,
          43,
          44,
          45,
          45
         ],
         "yaxis": "y"
        },
        {
         "hovertemplate": "variable=Southampton<br>index=%{x}<br>value=%{y}<extra></extra>",
         "legendgroup": "Southampton",
         "line": {
          "color": "#FFA15A",
          "dash": "solid"
         },
         "mode": "lines",
         "name": "Southampton",
         "orientation": "v",
         "showlegend": true,
         "type": "scatter",
         "x": [
          "Week 1",
          "Week 2",
          "Week 3",
          "Week 4",
          "Week 5",
          "Week 6",
          "Week 7",
          "Week 8",
          "Week 9",
          "Week 10",
          "Week 11",
          "Week 12",
          "Week 13",
          "Week 14",
          "Week 15",
          "Week 16",
          "Week 17",
          "Week 18",
          "Week 19",
          "Week 20",
          "Week 21",
          "Week 22",
          "Week 23",
          "Week 24",
          "Week 25",
          "Week 26",
          "Week 27",
          "Week 28",
          "Week 29",
          "Week 30",
          "Week 31",
          "Week 32",
          "Week 33",
          "Week 34",
          "Week 35",
          "Week 36",
          "Week 37",
          "Week 38"
         ],
         "xaxis": "x",
         "y": [
          0,
          1,
          2,
          3,
          4,
          4,
          4,
          7,
          8,
          11,
          14,
          14,
          14,
          15,
          16,
          16,
          17,
          20,
          21,
          24,
          24,
          25,
          28,
          29,
          32,
          35,
          35,
          35,
          35,
          36,
          36,
          39,
          39,
          40,
          40,
          40,
          40,
          40
         ],
         "yaxis": "y"
        },
        {
         "hovertemplate": "variable=Everton<br>index=%{x}<br>value=%{y}<extra></extra>",
         "legendgroup": "Everton",
         "line": {
          "color": "#19d3f3",
          "dash": "solid"
         },
         "mode": "lines",
         "name": "Everton",
         "orientation": "v",
         "showlegend": true,
         "type": "scatter",
         "x": [
          "Week 1",
          "Week 2",
          "Week 3",
          "Week 4",
          "Week 5",
          "Week 6",
          "Week 7",
          "Week 8",
          "Week 9",
          "Week 10",
          "Week 11",
          "Week 12",
          "Week 13",
          "Week 14",
          "Week 15",
          "Week 16",
          "Week 17",
          "Week 18",
          "Week 19",
          "Week 20",
          "Week 21",
          "Week 22",
          "Week 23",
          "Week 24",
          "Week 25",
          "Week 26",
          "Week 27",
          "Week 28",
          "Week 29",
          "Week 30",
          "Week 31",
          "Week 32",
          "Week 33",
          "Week 34",
          "Week 35",
          "Week 36",
          "Week 37",
          "Week 38"
         ],
         "xaxis": "x",
         "y": [
          3,
          4,
          7,
          10,
          10,
          13,
          14,
          14,
          14,
          14,
          15,
          15,
          15,
          15,
          18,
          18,
          19,
          19,
          19,
          19,
          19,
          22,
          22,
          22,
          22,
          22,
          25,
          25,
          25,
          28,
          29,
          29,
          32,
          35,
          36,
          36,
          39,
          39
         ],
         "yaxis": "y"
        },
        {
         "hovertemplate": "variable=Leeds United<br>index=%{x}<br>value=%{y}<extra></extra>",
         "legendgroup": "Leeds United",
         "line": {
          "color": "#FF6692",
          "dash": "solid"
         },
         "mode": "lines",
         "name": "Leeds United",
         "orientation": "v",
         "showlegend": true,
         "type": "scatter",
         "x": [
          "Week 1",
          "Week 2",
          "Week 3",
          "Week 4",
          "Week 5",
          "Week 6",
          "Week 7",
          "Week 8",
          "Week 9",
          "Week 10",
          "Week 11",
          "Week 12",
          "Week 13",
          "Week 14",
          "Week 15",
          "Week 16",
          "Week 17",
          "Week 18",
          "Week 19",
          "Week 20",
          "Week 21",
          "Week 22",
          "Week 23",
          "Week 24",
          "Week 25",
          "Week 26",
          "Week 27",
          "Week 28",
          "Week 29",
          "Week 30",
          "Week 31",
          "Week 32",
          "Week 33",
          "Week 34",
          "Week 35",
          "Week 36",
          "Week 37",
          "Week 38"
         ],
         "xaxis": "x",
         "y": [
          0,
          1,
          2,
          2,
          3,
          3,
          6,
          6,
          7,
          10,
          11,
          11,
          12,
          15,
          16,
          16,
          16,
          16,
          19,
          22,
          22,
          23,
          23,
          23,
          23,
          23,
          23,
          23,
          26,
          29,
          30,
          33,
          34,
          34,
          34,
          34,
          35,
          38
         ],
         "yaxis": "y"
        },
        {
         "hovertemplate": "variable=Burnley<br>index=%{x}<br>value=%{y}<extra></extra>",
         "legendgroup": "Burnley",
         "line": {
          "color": "#B6E880",
          "dash": "solid"
         },
         "mode": "lines",
         "name": "Burnley",
         "orientation": "v",
         "showlegend": true,
         "type": "scatter",
         "x": [
          "Week 1",
          "Week 2",
          "Week 3",
          "Week 4",
          "Week 5",
          "Week 6",
          "Week 7",
          "Week 8",
          "Week 9",
          "Week 10",
          "Week 11",
          "Week 12",
          "Week 13",
          "Week 14",
          "Week 15",
          "Week 16",
          "Week 17",
          "Week 18",
          "Week 19",
          "Week 20",
          "Week 21",
          "Week 22",
          "Week 23",
          "Week 24",
          "Week 25",
          "Week 26",
          "Week 27",
          "Week 28",
          "Week 29",
          "Week 30",
          "Week 31",
          "Week 32",
          "Week 33",
          "Week 34",
          "Week 35",
          "Week 36",
          "Week 37",
          "Week 38"
         ],
         "xaxis": "x",
         "y": [
          0,
          0,
          1,
          1,
          1,
          2,
          3,
          3,
          4,
          7,
          8,
          9,
          10,
          10,
          11,
          11,
          11,
          12,
          13,
          14,
          14,
          17,
          20,
          21,
          21,
          21,
          21,
          21,
          24,
          24,
          25,
          28,
          31,
          34,
          34,
          34,
          35,
          35
         ],
         "yaxis": "y"
        },
        {
         "hovertemplate": "variable=Watford<br>index=%{x}<br>value=%{y}<extra></extra>",
         "legendgroup": "Watford",
         "line": {
          "color": "#FF97FF",
          "dash": "solid"
         },
         "mode": "lines",
         "name": "Watford",
         "orientation": "v",
         "showlegend": true,
         "type": "scatter",
         "x": [
          "Week 1",
          "Week 2",
          "Week 3",
          "Week 4",
          "Week 5",
          "Week 6",
          "Week 7",
          "Week 8",
          "Week 9",
          "Week 10",
          "Week 11",
          "Week 12",
          "Week 13",
          "Week 14",
          "Week 15",
          "Week 16",
          "Week 17",
          "Week 18",
          "Week 19",
          "Week 20",
          "Week 21",
          "Week 22",
          "Week 23",
          "Week 24",
          "Week 25",
          "Week 26",
          "Week 27",
          "Week 28",
          "Week 29",
          "Week 30",
          "Week 31",
          "Week 32",
          "Week 33",
          "Week 34",
          "Week 35",
          "Week 36",
          "Week 37",
          "Week 38"
         ],
         "xaxis": "x",
         "y": [
          3,
          3,
          3,
          3,
          6,
          7,
          7,
          7,
          10,
          10,
          10,
          13,
          13,
          13,
          13,
          13,
          13,
          13,
          14,
          14,
          15,
          15,
          15,
          18,
          18,
          19,
          19,
          19,
          22,
          22,
          22,
          22,
          22,
          22,
          22,
          23,
          23,
          23
         ],
         "yaxis": "y"
        },
        {
         "hovertemplate": "variable=Norwich City<br>index=%{x}<br>value=%{y}<extra></extra>",
         "legendgroup": "Norwich City",
         "line": {
          "color": "#FECB52",
          "dash": "solid"
         },
         "mode": "lines",
         "name": "Norwich City",
         "orientation": "v",
         "showlegend": true,
         "type": "scatter",
         "x": [
          "Week 1",
          "Week 2",
          "Week 3",
          "Week 4",
          "Week 5",
          "Week 6",
          "Week 7",
          "Week 8",
          "Week 9",
          "Week 10",
          "Week 11",
          "Week 12",
          "Week 13",
          "Week 14",
          "Week 15",
          "Week 16",
          "Week 17",
          "Week 18",
          "Week 19",
          "Week 20",
          "Week 21",
          "Week 22",
          "Week 23",
          "Week 24",
          "Week 25",
          "Week 26",
          "Week 27",
          "Week 28",
          "Week 29",
          "Week 30",
          "Week 31",
          "Week 32",
          "Week 33",
          "Week 34",
          "Week 35",
          "Week 36",
          "Week 37",
          "Week 38"
         ],
         "xaxis": "x",
         "y": [
          0,
          0,
          0,
          0,
          0,
          0,
          1,
          2,
          2,
          2,
          5,
          8,
          9,
          10,
          10,
          10,
          10,
          10,
          10,
          10,
          13,
          16,
          17,
          17,
          17,
          17,
          17,
          17,
          17,
          18,
          21,
          21,
          21,
          21,
          21,
          21,
          22,
          22
         ],
         "yaxis": "y"
        }
       ],
       "layout": {
        "legend": {
         "title": {
          "text": "variable"
         },
         "tracegroupgap": 0
        },
        "margin": {
         "t": 60
        },
        "template": {
         "data": {
          "bar": [
           {
            "error_x": {
             "color": "#2a3f5f"
            },
            "error_y": {
             "color": "#2a3f5f"
            },
            "marker": {
             "line": {
              "color": "#E5ECF6",
              "width": 0.5
             },
             "pattern": {
              "fillmode": "overlay",
              "size": 10,
              "solidity": 0.2
             }
            },
            "type": "bar"
           }
          ],
          "barpolar": [
           {
            "marker": {
             "line": {
              "color": "#E5ECF6",
              "width": 0.5
             },
             "pattern": {
              "fillmode": "overlay",
              "size": 10,
              "solidity": 0.2
             }
            },
            "type": "barpolar"
           }
          ],
          "carpet": [
           {
            "aaxis": {
             "endlinecolor": "#2a3f5f",
             "gridcolor": "white",
             "linecolor": "white",
             "minorgridcolor": "white",
             "startlinecolor": "#2a3f5f"
            },
            "baxis": {
             "endlinecolor": "#2a3f5f",
             "gridcolor": "white",
             "linecolor": "white",
             "minorgridcolor": "white",
             "startlinecolor": "#2a3f5f"
            },
            "type": "carpet"
           }
          ],
          "choropleth": [
           {
            "colorbar": {
             "outlinewidth": 0,
             "ticks": ""
            },
            "type": "choropleth"
           }
          ],
          "contour": [
           {
            "colorbar": {
             "outlinewidth": 0,
             "ticks": ""
            },
            "colorscale": [
             [
              0,
              "#0d0887"
             ],
             [
              0.1111111111111111,
              "#46039f"
             ],
             [
              0.2222222222222222,
              "#7201a8"
             ],
             [
              0.3333333333333333,
              "#9c179e"
             ],
             [
              0.4444444444444444,
              "#bd3786"
             ],
             [
              0.5555555555555556,
              "#d8576b"
             ],
             [
              0.6666666666666666,
              "#ed7953"
             ],
             [
              0.7777777777777778,
              "#fb9f3a"
             ],
             [
              0.8888888888888888,
              "#fdca26"
             ],
             [
              1,
              "#f0f921"
             ]
            ],
            "type": "contour"
           }
          ],
          "contourcarpet": [
           {
            "colorbar": {
             "outlinewidth": 0,
             "ticks": ""
            },
            "type": "contourcarpet"
           }
          ],
          "heatmap": [
           {
            "colorbar": {
             "outlinewidth": 0,
             "ticks": ""
            },
            "colorscale": [
             [
              0,
              "#0d0887"
             ],
             [
              0.1111111111111111,
              "#46039f"
             ],
             [
              0.2222222222222222,
              "#7201a8"
             ],
             [
              0.3333333333333333,
              "#9c179e"
             ],
             [
              0.4444444444444444,
              "#bd3786"
             ],
             [
              0.5555555555555556,
              "#d8576b"
             ],
             [
              0.6666666666666666,
              "#ed7953"
             ],
             [
              0.7777777777777778,
              "#fb9f3a"
             ],
             [
              0.8888888888888888,
              "#fdca26"
             ],
             [
              1,
              "#f0f921"
             ]
            ],
            "type": "heatmap"
           }
          ],
          "heatmapgl": [
           {
            "colorbar": {
             "outlinewidth": 0,
             "ticks": ""
            },
            "colorscale": [
             [
              0,
              "#0d0887"
             ],
             [
              0.1111111111111111,
              "#46039f"
             ],
             [
              0.2222222222222222,
              "#7201a8"
             ],
             [
              0.3333333333333333,
              "#9c179e"
             ],
             [
              0.4444444444444444,
              "#bd3786"
             ],
             [
              0.5555555555555556,
              "#d8576b"
             ],
             [
              0.6666666666666666,
              "#ed7953"
             ],
             [
              0.7777777777777778,
              "#fb9f3a"
             ],
             [
              0.8888888888888888,
              "#fdca26"
             ],
             [
              1,
              "#f0f921"
             ]
            ],
            "type": "heatmapgl"
           }
          ],
          "histogram": [
           {
            "marker": {
             "pattern": {
              "fillmode": "overlay",
              "size": 10,
              "solidity": 0.2
             }
            },
            "type": "histogram"
           }
          ],
          "histogram2d": [
           {
            "colorbar": {
             "outlinewidth": 0,
             "ticks": ""
            },
            "colorscale": [
             [
              0,
              "#0d0887"
             ],
             [
              0.1111111111111111,
              "#46039f"
             ],
             [
              0.2222222222222222,
              "#7201a8"
             ],
             [
              0.3333333333333333,
              "#9c179e"
             ],
             [
              0.4444444444444444,
              "#bd3786"
             ],
             [
              0.5555555555555556,
              "#d8576b"
             ],
             [
              0.6666666666666666,
              "#ed7953"
             ],
             [
              0.7777777777777778,
              "#fb9f3a"
             ],
             [
              0.8888888888888888,
              "#fdca26"
             ],
             [
              1,
              "#f0f921"
             ]
            ],
            "type": "histogram2d"
           }
          ],
          "histogram2dcontour": [
           {
            "colorbar": {
             "outlinewidth": 0,
             "ticks": ""
            },
            "colorscale": [
             [
              0,
              "#0d0887"
             ],
             [
              0.1111111111111111,
              "#46039f"
             ],
             [
              0.2222222222222222,
              "#7201a8"
             ],
             [
              0.3333333333333333,
              "#9c179e"
             ],
             [
              0.4444444444444444,
              "#bd3786"
             ],
             [
              0.5555555555555556,
              "#d8576b"
             ],
             [
              0.6666666666666666,
              "#ed7953"
             ],
             [
              0.7777777777777778,
              "#fb9f3a"
             ],
             [
              0.8888888888888888,
              "#fdca26"
             ],
             [
              1,
              "#f0f921"
             ]
            ],
            "type": "histogram2dcontour"
           }
          ],
          "mesh3d": [
           {
            "colorbar": {
             "outlinewidth": 0,
             "ticks": ""
            },
            "type": "mesh3d"
           }
          ],
          "parcoords": [
           {
            "line": {
             "colorbar": {
              "outlinewidth": 0,
              "ticks": ""
             }
            },
            "type": "parcoords"
           }
          ],
          "pie": [
           {
            "automargin": true,
            "type": "pie"
           }
          ],
          "scatter": [
           {
            "marker": {
             "colorbar": {
              "outlinewidth": 0,
              "ticks": ""
             }
            },
            "type": "scatter"
           }
          ],
          "scatter3d": [
           {
            "line": {
             "colorbar": {
              "outlinewidth": 0,
              "ticks": ""
             }
            },
            "marker": {
             "colorbar": {
              "outlinewidth": 0,
              "ticks": ""
             }
            },
            "type": "scatter3d"
           }
          ],
          "scattercarpet": [
           {
            "marker": {
             "colorbar": {
              "outlinewidth": 0,
              "ticks": ""
             }
            },
            "type": "scattercarpet"
           }
          ],
          "scattergeo": [
           {
            "marker": {
             "colorbar": {
              "outlinewidth": 0,
              "ticks": ""
             }
            },
            "type": "scattergeo"
           }
          ],
          "scattergl": [
           {
            "marker": {
             "colorbar": {
              "outlinewidth": 0,
              "ticks": ""
             }
            },
            "type": "scattergl"
           }
          ],
          "scattermapbox": [
           {
            "marker": {
             "colorbar": {
              "outlinewidth": 0,
              "ticks": ""
             }
            },
            "type": "scattermapbox"
           }
          ],
          "scatterpolar": [
           {
            "marker": {
             "colorbar": {
              "outlinewidth": 0,
              "ticks": ""
             }
            },
            "type": "scatterpolar"
           }
          ],
          "scatterpolargl": [
           {
            "marker": {
             "colorbar": {
              "outlinewidth": 0,
              "ticks": ""
             }
            },
            "type": "scatterpolargl"
           }
          ],
          "scatterternary": [
           {
            "marker": {
             "colorbar": {
              "outlinewidth": 0,
              "ticks": ""
             }
            },
            "type": "scatterternary"
           }
          ],
          "surface": [
           {
            "colorbar": {
             "outlinewidth": 0,
             "ticks": ""
            },
            "colorscale": [
             [
              0,
              "#0d0887"
             ],
             [
              0.1111111111111111,
              "#46039f"
             ],
             [
              0.2222222222222222,
              "#7201a8"
             ],
             [
              0.3333333333333333,
              "#9c179e"
             ],
             [
              0.4444444444444444,
              "#bd3786"
             ],
             [
              0.5555555555555556,
              "#d8576b"
             ],
             [
              0.6666666666666666,
              "#ed7953"
             ],
             [
              0.7777777777777778,
              "#fb9f3a"
             ],
             [
              0.8888888888888888,
              "#fdca26"
             ],
             [
              1,
              "#f0f921"
             ]
            ],
            "type": "surface"
           }
          ],
          "table": [
           {
            "cells": {
             "fill": {
              "color": "#EBF0F8"
             },
             "line": {
              "color": "white"
             }
            },
            "header": {
             "fill": {
              "color": "#C8D4E3"
             },
             "line": {
              "color": "white"
             }
            },
            "type": "table"
           }
          ]
         },
         "layout": {
          "annotationdefaults": {
           "arrowcolor": "#2a3f5f",
           "arrowhead": 0,
           "arrowwidth": 1
          },
          "autotypenumbers": "strict",
          "coloraxis": {
           "colorbar": {
            "outlinewidth": 0,
            "ticks": ""
           }
          },
          "colorscale": {
           "diverging": [
            [
             0,
             "#8e0152"
            ],
            [
             0.1,
             "#c51b7d"
            ],
            [
             0.2,
             "#de77ae"
            ],
            [
             0.3,
             "#f1b6da"
            ],
            [
             0.4,
             "#fde0ef"
            ],
            [
             0.5,
             "#f7f7f7"
            ],
            [
             0.6,
             "#e6f5d0"
            ],
            [
             0.7,
             "#b8e186"
            ],
            [
             0.8,
             "#7fbc41"
            ],
            [
             0.9,
             "#4d9221"
            ],
            [
             1,
             "#276419"
            ]
           ],
           "sequential": [
            [
             0,
             "#0d0887"
            ],
            [
             0.1111111111111111,
             "#46039f"
            ],
            [
             0.2222222222222222,
             "#7201a8"
            ],
            [
             0.3333333333333333,
             "#9c179e"
            ],
            [
             0.4444444444444444,
             "#bd3786"
            ],
            [
             0.5555555555555556,
             "#d8576b"
            ],
            [
             0.6666666666666666,
             "#ed7953"
            ],
            [
             0.7777777777777778,
             "#fb9f3a"
            ],
            [
             0.8888888888888888,
             "#fdca26"
            ],
            [
             1,
             "#f0f921"
            ]
           ],
           "sequentialminus": [
            [
             0,
             "#0d0887"
            ],
            [
             0.1111111111111111,
             "#46039f"
            ],
            [
             0.2222222222222222,
             "#7201a8"
            ],
            [
             0.3333333333333333,
             "#9c179e"
            ],
            [
             0.4444444444444444,
             "#bd3786"
            ],
            [
             0.5555555555555556,
             "#d8576b"
            ],
            [
             0.6666666666666666,
             "#ed7953"
            ],
            [
             0.7777777777777778,
             "#fb9f3a"
            ],
            [
             0.8888888888888888,
             "#fdca26"
            ],
            [
             1,
             "#f0f921"
            ]
           ]
          },
          "colorway": [
           "#636efa",
           "#EF553B",
           "#00cc96",
           "#ab63fa",
           "#FFA15A",
           "#19d3f3",
           "#FF6692",
           "#B6E880",
           "#FF97FF",
           "#FECB52"
          ],
          "font": {
           "color": "#2a3f5f"
          },
          "geo": {
           "bgcolor": "white",
           "lakecolor": "white",
           "landcolor": "#E5ECF6",
           "showlakes": true,
           "showland": true,
           "subunitcolor": "white"
          },
          "hoverlabel": {
           "align": "left"
          },
          "hovermode": "closest",
          "mapbox": {
           "style": "light"
          },
          "paper_bgcolor": "white",
          "plot_bgcolor": "#E5ECF6",
          "polar": {
           "angularaxis": {
            "gridcolor": "white",
            "linecolor": "white",
            "ticks": ""
           },
           "bgcolor": "#E5ECF6",
           "radialaxis": {
            "gridcolor": "white",
            "linecolor": "white",
            "ticks": ""
           }
          },
          "scene": {
           "xaxis": {
            "backgroundcolor": "#E5ECF6",
            "gridcolor": "white",
            "gridwidth": 2,
            "linecolor": "white",
            "showbackground": true,
            "ticks": "",
            "zerolinecolor": "white"
           },
           "yaxis": {
            "backgroundcolor": "#E5ECF6",
            "gridcolor": "white",
            "gridwidth": 2,
            "linecolor": "white",
            "showbackground": true,
            "ticks": "",
            "zerolinecolor": "white"
           },
           "zaxis": {
            "backgroundcolor": "#E5ECF6",
            "gridcolor": "white",
            "gridwidth": 2,
            "linecolor": "white",
            "showbackground": true,
            "ticks": "",
            "zerolinecolor": "white"
           }
          },
          "shapedefaults": {
           "line": {
            "color": "#2a3f5f"
           }
          },
          "ternary": {
           "aaxis": {
            "gridcolor": "white",
            "linecolor": "white",
            "ticks": ""
           },
           "baxis": {
            "gridcolor": "white",
            "linecolor": "white",
            "ticks": ""
           },
           "bgcolor": "#E5ECF6",
           "caxis": {
            "gridcolor": "white",
            "linecolor": "white",
            "ticks": ""
           }
          },
          "title": {
           "x": 0.05
          },
          "xaxis": {
           "automargin": true,
           "gridcolor": "white",
           "linecolor": "white",
           "ticks": "",
           "title": {
            "standoff": 15
           },
           "zerolinecolor": "white",
           "zerolinewidth": 2
          },
          "yaxis": {
           "automargin": true,
           "gridcolor": "white",
           "linecolor": "white",
           "ticks": "",
           "title": {
            "standoff": 15
           },
           "zerolinecolor": "white",
           "zerolinewidth": 2
          }
         }
        },
        "xaxis": {
         "anchor": "y",
         "domain": [
          0,
          1
         ],
         "title": {
          "text": "index"
         }
        },
        "yaxis": {
         "anchor": "x",
         "domain": [
          0,
          1
         ],
         "title": {
          "text": "value"
         }
        }
       }
      }
     },
     "metadata": {},
     "output_type": "display_data"
    }
   ],
   "source": [
    "px.line(club)"
   ]
  },
  {
   "cell_type": "markdown",
   "metadata": {},
   "source": [
    "Steve era was between week 1 until week 11, we can see from the graph Newcastle was on the second bottom of the table. Newcastle can relegated to championships if still like this. So the decision changing the manager is really good because there is improvement from 18th position become 11th position and this position better than 1 season before (12th)."
   ]
  },
  {
   "cell_type": "markdown",
   "metadata": {},
   "source": [
    "We can say the new ownership and Eddie Howe make improvement on Newcastle at season 2021/2022. Winter transfer was a hit for Newcastle, thanks to the owner money. Eddie howe make the Newcastle defense and attack better  but, we can't say yet Newcaste will be a big club if we only see one season."
   ]
  }
 ],
 "metadata": {
  "kernelspec": {
   "display_name": "Python 3.9.5 ('base')",
   "language": "python",
   "name": "python3"
  },
  "language_info": {
   "codemirror_mode": {
    "name": "ipython",
    "version": 3
   },
   "file_extension": ".py",
   "mimetype": "text/x-python",
   "name": "python",
   "nbconvert_exporter": "python",
   "pygments_lexer": "ipython3",
   "version": "3.9.5"
  },
  "orig_nbformat": 4,
  "vscode": {
   "interpreter": {
    "hash": "147c3bc6fc00590e58d3e3ef7b83ae10ae7abb113a3e5d9de85582d13b73ba37"
   }
  }
 },
 "nbformat": 4,
 "nbformat_minor": 2
}
